{
 "cells": [
  {
   "cell_type": "code",
   "execution_count": 1,
   "metadata": {
    "execution": {
     "iopub.execute_input": "2022-10-18T12:50:41.108090Z",
     "iopub.status.busy": "2022-10-18T12:50:41.107476Z",
     "iopub.status.idle": "2022-10-18T12:50:41.421856Z",
     "shell.execute_reply": "2022-10-18T12:50:41.421028Z",
     "shell.execute_reply.started": "2022-10-18T12:50:41.107999Z"
    },
    "tags": []
   },
   "outputs": [],
   "source": [
    "import duckdb"
   ]
  },
  {
   "cell_type": "code",
   "execution_count": 2,
   "metadata": {
    "execution": {
     "iopub.execute_input": "2022-10-18T12:50:42.130484Z",
     "iopub.status.busy": "2022-10-18T12:50:42.130167Z",
     "iopub.status.idle": "2022-10-18T12:50:42.144736Z",
     "shell.execute_reply": "2022-10-18T12:50:42.143879Z",
     "shell.execute_reply.started": "2022-10-18T12:50:42.130459Z"
    },
    "tags": []
   },
   "outputs": [],
   "source": [
    "conn = duckdb.connect()"
   ]
  },
  {
   "cell_type": "code",
   "execution_count": 3,
   "metadata": {
    "execution": {
     "iopub.execute_input": "2022-10-18T12:50:42.858461Z",
     "iopub.status.busy": "2022-10-18T12:50:42.857910Z",
     "iopub.status.idle": "2022-10-18T12:50:43.579562Z",
     "shell.execute_reply": "2022-10-18T12:50:43.578761Z",
     "shell.execute_reply.started": "2022-10-18T12:50:42.858434Z"
    },
    "tags": []
   },
   "outputs": [
    {
     "name": "stdout",
     "output_type": "stream",
     "text": [
      "3.9G\t/data/reddit-climate/the-reddit-climate-change-dataset-comments.csv\n",
      "250M\t/data/reddit-climate/the-reddit-climate-change-dataset-posts.csv\n"
     ]
    }
   ],
   "source": [
    "!du -sh /data/reddit-climate/*.csv"
   ]
  },
  {
   "cell_type": "code",
   "execution_count": 4,
   "metadata": {
    "execution": {
     "iopub.execute_input": "2022-10-18T12:50:45.010859Z",
     "iopub.status.busy": "2022-10-18T12:50:45.010494Z",
     "iopub.status.idle": "2022-10-18T12:50:45.735316Z",
     "shell.execute_reply": "2022-10-18T12:50:45.734400Z",
     "shell.execute_reply.started": "2022-10-18T12:50:45.010828Z"
    },
    "tags": []
   },
   "outputs": [
    {
     "name": "stdout",
     "output_type": "stream",
     "text": [
      "type,id,subreddit.id,subreddit.name,subreddit.nsfw,created_utc,permalink,body,sentiment,score\n",
      "comment,imlddn9,2qh3l,news,false,1661990368,https://old.reddit.com/r/news/comments/x2cszk/us_life_expectancy_down_for_secondstraight_year/imlddn9/,\"Yeah but what the above commenter is saying is their base doesn’t want any of that. They detest all of those things, even the small gradual changes. Investing in nuclear energy is a tacit acknowledgement of man made climate change. Any acknowledgement or concession and they will be primaried out in a minute\",0.5719,2\n",
      "comment,imldbeh,2qn7b,ohio,false,1661990340,https://old.reddit.com/r/Ohio/comments/x2awnp/state_government_may_soon_kill_a_solar_project_in/imldbeh/,\"Any comparison of efficiency between solar and fossil fuels is nonsensical at best and intentionally misleading at worst. In no universe is light -&gt; photovoltaic cell -&gt; electricity less efficient than light -&gt; entire food chain -&gt; biomass -&gt; decomposition -&gt; millions of years of geothermal heat and pressure -&gt; extraction -&gt; refining and transport -&gt; burning -&gt; turbine generator -&gt; electricity.\n",
      "\n",
      "Ugly? More ugly than power lines, roads, apartment buildings, tractors, fences, etc etc etc? You're simply not used to it. Also, who cares? Sure, millions of people died in the displacement from sea rise, famines cause by climate change, and wars from resource scarcity, but thank God we didn't have to look at those solar panels occasionally.\n",
      "\n",
      "Offshore fracking? Fucks sake. Have you already forgotten the deepwater horizon disaster? Think about the damage that did to the gulf coast, add a few million barrels of highly toxic fracking fluid to the mix, and there you have our next major environmental disaster courtesy of offshore fracking. But oh man, those solar panels sure are ugly.\n",
      "\n",
      "Stop repeating the lies fed to you by the people getting rich from fossil fuels, who couldn't care less about you or your descendants as long as they get theirs. We can deal with the less environmentally friendly aspects of solar power. We cannot deal with the consequences of continuing to pump carbon into the atmosphere. Y'all need to grow the fuck up and stop whining about the view.\",-0.9877,2\n",
      "comment,imldado,2qhma,newzealand,false,1661990327,https://old.reddit.com/r/newzealand/comments/x28xci/long_rant_pessimistic_asf_and_feel_like_were/imldado/,\"I'm honestly waiting for climate change and the impacts of that to kick some fucking sense into people. But who am I kidding itll still just be more of the poor suffering while the rich claim victim hood for handouts while letting us all starve. Its honestly hard some days to not just give up, and I truly wonder if and when anything will ever actually be done.\",-0.1143,1\n"
     ]
    }
   ],
   "source": [
    "!head /data/reddit-climate/the-reddit-climate-change-dataset-comments.csv"
   ]
  },
  {
   "cell_type": "code",
   "execution_count": 5,
   "metadata": {
    "execution": {
     "iopub.execute_input": "2022-10-18T12:50:47.080455Z",
     "iopub.status.busy": "2022-10-18T12:50:47.079840Z",
     "iopub.status.idle": "2022-10-18T12:51:38.536616Z",
     "shell.execute_reply": "2022-10-18T12:51:38.535978Z",
     "shell.execute_reply.started": "2022-10-18T12:50:47.080423Z"
    },
    "tags": []
   },
   "outputs": [
    {
     "data": {
      "text/plain": [
       "[(4600698,)]"
      ]
     },
     "execution_count": 5,
     "metadata": {},
     "output_type": "execute_result"
    }
   ],
   "source": [
    "conn.query(\"\"\"\n",
    "SELECT COUNT(*)\n",
    "FROM '/data/reddit-climate/the-reddit-climate-change-dataset-comments.csv'\n",
    "\"\"\").fetchall()"
   ]
  },
  {
   "cell_type": "code",
   "execution_count": 6,
   "metadata": {
    "execution": {
     "iopub.execute_input": "2022-10-18T12:51:38.539271Z",
     "iopub.status.busy": "2022-10-18T12:51:38.538804Z",
     "iopub.status.idle": "2022-10-18T12:51:38.710895Z",
     "shell.execute_reply": "2022-10-18T12:51:38.709981Z",
     "shell.execute_reply.started": "2022-10-18T12:51:38.539245Z"
    },
    "tags": []
   },
   "outputs": [
    {
     "name": "stdout",
     "output_type": "stream",
     "text": [
      "Reading /data/reddit-climate/the-reddit-climate-change-dataset-comments.csv...\n",
      "Reading /data/reddit-climate/the-reddit-climate-change-dataset-posts.csv...\n"
     ]
    }
   ],
   "source": [
    "import os\n",
    "\n",
    "import pyarrow as pa\n",
    "from pyarrow.csv import open_csv, ParseOptions\n",
    "import pyarrow.parquet as pq\n",
    "\n",
    "csv_files = !ls /data/reddit-climate/*.csv\n",
    "csv_files\n",
    "\n",
    "for filename in csv_files:\n",
    "    print(f\"Reading {filename}...\")\n",
    "    mmap = pa.memory_map(filename)\n",
    "\n",
    "    reader = open_csv(mmap, parse_options=ParseOptions(newlines_in_values=True))\n",
    "\n",
    "    destination_file = os.path.splitext(filename)[0] + \".parquet\"\n",
    "    if os.path.isfile(destination_file):\n",
    "        continue\n",
    "\n",
    "    with pq.ParquetWriter(destination_file, reader.schema) as writer:\n",
    "        while True:\n",
    "            try:\n",
    "                batch = reader.read_next_batch()\n",
    "                writer.write_batch(batch)\n",
    "            except StopIteration:\n",
    "                break"
   ]
  },
  {
   "cell_type": "code",
   "execution_count": 7,
   "metadata": {
    "execution": {
     "iopub.execute_input": "2022-10-18T12:51:38.714913Z",
     "iopub.status.busy": "2022-10-18T12:51:38.714571Z",
     "iopub.status.idle": "2022-10-18T12:51:39.430981Z",
     "shell.execute_reply": "2022-10-18T12:51:39.425169Z",
     "shell.execute_reply.started": "2022-10-18T12:51:38.714879Z"
    },
    "tags": []
   },
   "outputs": [
    {
     "name": "stdout",
     "output_type": "stream",
     "text": [
      "2.3G\t/data/reddit-climate/the-reddit-climate-change-dataset-comments.parquet\n",
      "97M\t/data/reddit-climate/the-reddit-climate-change-dataset-posts.parquet\n"
     ]
    }
   ],
   "source": [
    "!du -sh /data/reddit-climate/*.parquet"
   ]
  },
  {
   "cell_type": "code",
   "execution_count": 8,
   "metadata": {
    "execution": {
     "iopub.execute_input": "2022-10-18T12:51:39.437417Z",
     "iopub.status.busy": "2022-10-18T12:51:39.436988Z",
     "iopub.status.idle": "2022-10-18T12:51:39.648847Z",
     "shell.execute_reply": "2022-10-18T12:51:39.648136Z",
     "shell.execute_reply.started": "2022-10-18T12:51:39.437374Z"
    },
    "tags": []
   },
   "outputs": [
    {
     "data": {
      "text/plain": [
       "[(4600698,)]"
      ]
     },
     "execution_count": 8,
     "metadata": {},
     "output_type": "execute_result"
    }
   ],
   "source": [
    "conn.execute(\"\"\"\n",
    "SELECT COUNT(*)\n",
    "FROM '/data/reddit-climate/the-reddit-climate-change-dataset-comments.parquet'\n",
    "\"\"\").fetchall()"
   ]
  },
  {
   "cell_type": "markdown",
   "metadata": {},
   "source": [
    "---"
   ]
  },
  {
   "cell_type": "code",
   "execution_count": 9,
   "metadata": {
    "execution": {
     "iopub.execute_input": "2022-10-18T12:51:39.650560Z",
     "iopub.status.busy": "2022-10-18T12:51:39.650152Z",
     "iopub.status.idle": "2022-10-18T12:51:39.766221Z",
     "shell.execute_reply": "2022-10-18T12:51:39.762841Z",
     "shell.execute_reply.started": "2022-10-18T12:51:39.650535Z"
    },
    "tags": []
   },
   "outputs": [
    {
     "data": {
      "text/plain": [
       "<duckdb.DuckDBPyConnection at 0x7ff9250a0a70>"
      ]
     },
     "execution_count": 9,
     "metadata": {},
     "output_type": "execute_result"
    }
   ],
   "source": [
    "conn.execute(\"\"\"\n",
    "CREATE VIEW comments AS\n",
    "SELECT * FROM '/data/reddit-climate/the-reddit-climate-change-dataset-comments.parquet'\n",
    "\"\"\")"
   ]
  },
  {
   "cell_type": "code",
   "execution_count": 10,
   "metadata": {
    "execution": {
     "iopub.execute_input": "2022-10-18T12:51:39.767503Z",
     "iopub.status.busy": "2022-10-18T12:51:39.767309Z",
     "iopub.status.idle": "2022-10-18T12:51:40.349952Z",
     "shell.execute_reply": "2022-10-18T12:51:40.349303Z",
     "shell.execute_reply.started": "2022-10-18T12:51:39.767480Z"
    },
    "tags": []
   },
   "outputs": [
    {
     "data": {
      "text/plain": [
       "[('politics', 370018),\n",
       " ('worldnews', 351195),\n",
       " ('askreddit', 259848),\n",
       " ('collapse', 94696),\n",
       " ('news', 94558),\n",
       " ('futurology', 89945),\n",
       " ('science', 71453),\n",
       " ('environment', 70444),\n",
       " ('canada', 66813),\n",
       " ('australia', 60239)]"
      ]
     },
     "execution_count": 10,
     "metadata": {},
     "output_type": "execute_result"
    }
   ],
   "source": [
    "conn.execute(\"\"\"\n",
    "SELECT\n",
    "  \"subreddit.name\" AS subreddit_name,\n",
    "  COUNT(*) AS num_comments,\n",
    "FROM comments\n",
    "GROUP BY subreddit_name\n",
    "ORDER BY num_comments DESC\n",
    "LIMIT 10\n",
    "\"\"\").fetchall()"
   ]
  },
  {
   "cell_type": "code",
   "execution_count": 11,
   "metadata": {
    "execution": {
     "iopub.execute_input": "2022-10-18T12:51:40.351144Z",
     "iopub.status.busy": "2022-10-18T12:51:40.350966Z",
     "iopub.status.idle": "2022-10-18T12:51:42.929524Z",
     "shell.execute_reply": "2022-10-18T12:51:42.928620Z",
     "shell.execute_reply.started": "2022-10-18T12:51:40.351120Z"
    },
    "tags": []
   },
   "outputs": [
    {
     "data": {
      "text/plain": [
       "[('politics', 370018, -0.018118589649651677, 0.6600297061407984),\n",
       " ('worldnews', 351195, -0.058001587387908116, 0.6405990095462727),\n",
       " ('askreddit', 259848, -0.06863721863923525, 0.608974871810146),\n",
       " ('collapse', 94696, -0.1332661626390421, 0.6667106776062661),\n",
       " ('news', 94558, -0.09367126059175679, 0.6276134461239277),\n",
       " ('futurology', 89945, 0.001863748911563026, 0.6506820198836208),\n",
       " ('science', 71453, 0.04588216852922981, 0.6248484283076317),\n",
       " ('environment', 70444, -0.015670189810190065, 0.6467846578160436),\n",
       " ('canada', 66813, 0.021118244331091524, 0.6408319443539501),\n",
       " ('australia', 60239, -0.021869519296547842, 0.6405803819103513)]"
      ]
     },
     "execution_count": 11,
     "metadata": {},
     "output_type": "execute_result"
    }
   ],
   "source": [
    "conn.execute(\"\"\"\n",
    "SELECT\n",
    "  \"subreddit.name\" AS subreddit_name,\n",
    "  COUNT(*) AS num_comments,\n",
    "  AVG(sentiment) AS average_sentiment,\n",
    "  STDDEV(sentiment) AS stddev_sentiment,\n",
    "FROM comments\n",
    "WHERE subreddit_name IN (\n",
    "  SELECT \"subreddit.name\" AS subreddit_name\n",
    "  FROM comments\n",
    "  GROUP BY subreddit_name\n",
    "  ORDER BY COUNT(*) DESC\n",
    "  LIMIT 10\n",
    ")\n",
    "GROUP BY subreddit_name\n",
    "ORDER BY num_comments DESC\n",
    "\"\"\").fetchall()"
   ]
  },
  {
   "cell_type": "code",
   "execution_count": 12,
   "metadata": {
    "execution": {
     "iopub.execute_input": "2022-10-18T17:12:16.370587Z",
     "iopub.status.busy": "2022-10-18T17:12:16.370406Z",
     "iopub.status.idle": "2022-10-18T17:12:17.815611Z",
     "shell.execute_reply": "2022-10-18T17:12:17.814866Z",
     "shell.execute_reply.started": "2022-10-18T17:12:16.370563Z"
    },
    "tags": []
   },
   "outputs": [],
   "source": [
    "%load_ext sql"
   ]
  },
  {
   "cell_type": "code",
   "execution_count": 13,
   "metadata": {
    "execution": {
     "iopub.execute_input": "2022-10-18T17:12:17.819649Z",
     "iopub.status.busy": "2022-10-18T17:12:17.819204Z",
     "iopub.status.idle": "2022-10-18T17:12:18.022023Z",
     "shell.execute_reply": "2022-10-18T17:12:18.021274Z",
     "shell.execute_reply.started": "2022-10-18T17:12:17.819624Z"
    },
    "tags": []
   },
   "outputs": [],
   "source": [
    "%sql duckdb:///:memory:"
   ]
  },
  {
   "cell_type": "code",
   "execution_count": 14,
   "metadata": {
    "execution": {
     "iopub.execute_input": "2022-10-18T17:12:18.025805Z",
     "iopub.status.busy": "2022-10-18T17:12:18.025590Z",
     "iopub.status.idle": "2022-10-18T17:12:18.250891Z",
     "shell.execute_reply": "2022-10-18T17:12:18.246378Z",
     "shell.execute_reply.started": "2022-10-18T17:12:18.025780Z"
    },
    "tags": []
   },
   "outputs": [
    {
     "name": "stdout",
     "output_type": "stream",
     "text": [
      " * duckdb:///:memory:\n",
      "Done.\n"
     ]
    },
    {
     "data": {
      "text/html": [
       "<table>\n",
       "    <tr>\n",
       "        <th>Count</th>\n",
       "    </tr>\n",
       "</table>"
      ],
      "text/plain": [
       "[]"
      ]
     },
     "execution_count": 14,
     "metadata": {},
     "output_type": "execute_result"
    }
   ],
   "source": [
    "%sql CREATE VIEW comments AS SELECT * FROM '/data/reddit-climate/the-reddit-climate-change-dataset-comments.parquet'"
   ]
  },
  {
   "cell_type": "code",
   "execution_count": 15,
   "metadata": {
    "execution": {
     "iopub.execute_input": "2022-10-18T17:12:18.256216Z",
     "iopub.status.busy": "2022-10-18T17:12:18.255844Z",
     "iopub.status.idle": "2022-10-18T17:12:18.406518Z",
     "shell.execute_reply": "2022-10-18T17:12:18.405537Z",
     "shell.execute_reply.started": "2022-10-18T17:12:18.256190Z"
    },
    "tags": []
   },
   "outputs": [
    {
     "name": "stdout",
     "output_type": "stream",
     "text": [
      " * duckdb:///:memory:\n",
      "Done.\n"
     ]
    },
    {
     "data": {
      "text/html": [
       "<table>\n",
       "    <tr>\n",
       "        <th>count_star()</th>\n",
       "    </tr>\n",
       "    <tr>\n",
       "        <td>4600698</td>\n",
       "    </tr>\n",
       "</table>"
      ],
      "text/plain": [
       "[(4600698,)]"
      ]
     },
     "execution_count": 15,
     "metadata": {},
     "output_type": "execute_result"
    }
   ],
   "source": [
    "%sql SELECT COUNT(*) FROM comments"
   ]
  },
  {
   "cell_type": "markdown",
   "metadata": {},
   "source": [
    "---"
   ]
  },
  {
   "cell_type": "code",
   "execution_count": 16,
   "metadata": {
    "execution": {
     "iopub.execute_input": "2022-10-18T17:12:18.409997Z",
     "iopub.status.busy": "2022-10-18T17:12:18.409791Z",
     "iopub.status.idle": "2022-10-18T17:12:18.507837Z",
     "shell.execute_reply": "2022-10-18T17:12:18.506994Z",
     "shell.execute_reply.started": "2022-10-18T17:12:18.409972Z"
    },
    "tags": []
   },
   "outputs": [],
   "source": [
    "rel = conn.query(\"\"\"\n",
    "SELECT\n",
    "  \"subreddit.name\" AS subreddit_name,\n",
    "  COUNT(*) AS num_comments,\n",
    "FROM comments\n",
    "GROUP BY subreddit_name\n",
    "ORDER BY num_comments DESC\n",
    "LIMIT 10\n",
    "\"\"\")"
   ]
  },
  {
   "cell_type": "code",
   "execution_count": 17,
   "metadata": {
    "execution": {
     "iopub.execute_input": "2022-10-18T17:12:18.509533Z",
     "iopub.status.busy": "2022-10-18T17:12:18.509215Z",
     "iopub.status.idle": "2022-10-18T17:12:18.519685Z",
     "shell.execute_reply": "2022-10-18T17:12:18.518932Z",
     "shell.execute_reply.started": "2022-10-18T17:12:18.509506Z"
    },
    "tags": []
   },
   "outputs": [
    {
     "data": {
      "text/plain": [
       "duckdb.DuckDBPyRelation"
      ]
     },
     "execution_count": 17,
     "metadata": {},
     "output_type": "execute_result"
    }
   ],
   "source": [
    "type(rel)"
   ]
  },
  {
   "cell_type": "code",
   "execution_count": 18,
   "metadata": {
    "execution": {
     "iopub.execute_input": "2022-10-18T17:12:18.522822Z",
     "iopub.status.busy": "2022-10-18T17:12:18.522588Z",
     "iopub.status.idle": "2022-10-18T17:12:19.733108Z",
     "shell.execute_reply": "2022-10-18T17:12:19.732503Z",
     "shell.execute_reply.started": "2022-10-18T17:12:18.522797Z"
    },
    "tags": []
   },
   "outputs": [
    {
     "data": {
      "text/plain": [
       "---------------------\n",
       "--- Relation Tree ---\n",
       "---------------------\n",
       "Subquery\n",
       "\n",
       "---------------------\n",
       "-- Result Columns  --\n",
       "---------------------\n",
       "- subreddit_name (VARCHAR)\n",
       "- num_comments (BIGINT)\n",
       "\n",
       "---------------------\n",
       "-- Result Preview  --\n",
       "---------------------\n",
       "subreddit_name\tnum_comments\t\n",
       "VARCHAR\tBIGINT\t\n",
       "[ Rows: 10]\n",
       "politics\t370018\n",
       "worldnews\t351195\n",
       "askreddit\t259848\n",
       "collapse\t94696\n",
       "news\t94558\n",
       "futurology\t89945\n",
       "science\t71453\n",
       "environment\t70444\n",
       "canada\t66813\n",
       "australia\t60239\n",
       "\n"
      ]
     },
     "execution_count": 18,
     "metadata": {},
     "output_type": "execute_result"
    }
   ],
   "source": [
    "rel"
   ]
  },
  {
   "cell_type": "code",
   "execution_count": 19,
   "metadata": {
    "execution": {
     "iopub.execute_input": "2022-10-18T17:12:19.736416Z",
     "iopub.status.busy": "2022-10-18T17:12:19.736105Z",
     "iopub.status.idle": "2022-10-18T17:12:20.367404Z",
     "shell.execute_reply": "2022-10-18T17:12:20.366605Z",
     "shell.execute_reply.started": "2022-10-18T17:12:19.736391Z"
    },
    "tags": []
   },
   "outputs": [
    {
     "data": {
      "text/html": [
       "<div>\n",
       "<style scoped>\n",
       "    .dataframe tbody tr th:only-of-type {\n",
       "        vertical-align: middle;\n",
       "    }\n",
       "\n",
       "    .dataframe tbody tr th {\n",
       "        vertical-align: top;\n",
       "    }\n",
       "\n",
       "    .dataframe thead th {\n",
       "        text-align: right;\n",
       "    }\n",
       "</style>\n",
       "<table border=\"1\" class=\"dataframe\">\n",
       "  <thead>\n",
       "    <tr style=\"text-align: right;\">\n",
       "      <th></th>\n",
       "      <th>subreddit_name</th>\n",
       "      <th>num_comments</th>\n",
       "    </tr>\n",
       "  </thead>\n",
       "  <tbody>\n",
       "    <tr>\n",
       "      <th>0</th>\n",
       "      <td>politics</td>\n",
       "      <td>370018</td>\n",
       "    </tr>\n",
       "    <tr>\n",
       "      <th>1</th>\n",
       "      <td>worldnews</td>\n",
       "      <td>351195</td>\n",
       "    </tr>\n",
       "    <tr>\n",
       "      <th>2</th>\n",
       "      <td>askreddit</td>\n",
       "      <td>259848</td>\n",
       "    </tr>\n",
       "    <tr>\n",
       "      <th>3</th>\n",
       "      <td>collapse</td>\n",
       "      <td>94696</td>\n",
       "    </tr>\n",
       "    <tr>\n",
       "      <th>4</th>\n",
       "      <td>news</td>\n",
       "      <td>94558</td>\n",
       "    </tr>\n",
       "    <tr>\n",
       "      <th>5</th>\n",
       "      <td>futurology</td>\n",
       "      <td>89945</td>\n",
       "    </tr>\n",
       "    <tr>\n",
       "      <th>6</th>\n",
       "      <td>science</td>\n",
       "      <td>71453</td>\n",
       "    </tr>\n",
       "    <tr>\n",
       "      <th>7</th>\n",
       "      <td>environment</td>\n",
       "      <td>70444</td>\n",
       "    </tr>\n",
       "    <tr>\n",
       "      <th>8</th>\n",
       "      <td>canada</td>\n",
       "      <td>66813</td>\n",
       "    </tr>\n",
       "    <tr>\n",
       "      <th>9</th>\n",
       "      <td>australia</td>\n",
       "      <td>60239</td>\n",
       "    </tr>\n",
       "  </tbody>\n",
       "</table>\n",
       "</div>"
      ],
      "text/plain": [
       "  subreddit_name  num_comments\n",
       "0       politics        370018\n",
       "1      worldnews        351195\n",
       "2      askreddit        259848\n",
       "3       collapse         94696\n",
       "4           news         94558\n",
       "5     futurology         89945\n",
       "6        science         71453\n",
       "7    environment         70444\n",
       "8         canada         66813\n",
       "9      australia         60239"
      ]
     },
     "execution_count": 19,
     "metadata": {},
     "output_type": "execute_result"
    }
   ],
   "source": [
    "rel.df()  # pandas"
   ]
  },
  {
   "cell_type": "code",
   "execution_count": 20,
   "metadata": {
    "execution": {
     "iopub.execute_input": "2022-10-18T17:12:20.369187Z",
     "iopub.status.busy": "2022-10-18T17:12:20.369002Z",
     "iopub.status.idle": "2022-10-18T17:12:20.465806Z",
     "shell.execute_reply": "2022-10-18T17:12:20.465012Z",
     "shell.execute_reply.started": "2022-10-18T17:12:20.369163Z"
    }
   },
   "outputs": [],
   "source": [
    "import polars as pl"
   ]
  },
  {
   "cell_type": "code",
   "execution_count": 21,
   "metadata": {
    "execution": {
     "iopub.execute_input": "2022-10-18T17:12:20.469668Z",
     "iopub.status.busy": "2022-10-18T17:12:20.469425Z",
     "iopub.status.idle": "2022-10-18T17:12:21.101412Z",
     "shell.execute_reply": "2022-10-18T17:12:21.100606Z",
     "shell.execute_reply.started": "2022-10-18T17:12:20.469642Z"
    }
   },
   "outputs": [],
   "source": [
    "data = rel.arrow()  # Arrow data"
   ]
  },
  {
   "cell_type": "code",
   "execution_count": 22,
   "metadata": {
    "execution": {
     "iopub.execute_input": "2022-10-18T17:12:21.104949Z",
     "iopub.status.busy": "2022-10-18T17:12:21.104577Z",
     "iopub.status.idle": "2022-10-18T17:12:21.121794Z",
     "shell.execute_reply": "2022-10-18T17:12:21.121104Z",
     "shell.execute_reply.started": "2022-10-18T17:12:21.104923Z"
    }
   },
   "outputs": [
    {
     "data": {
      "text/html": [
       "<div>\n",
       "<style scoped>\n",
       "    .dataframe tbody tr th:only-of-type {\n",
       "        vertical-align: middle;\n",
       "    }\n",
       "\n",
       "    .dataframe tbody tr th {\n",
       "        vertical-align: top;\n",
       "    }\n",
       "\n",
       "    .dataframe thead th {\n",
       "        text-align: right;\n",
       "    }\n",
       "\n",
       "    .dataframe td {\n",
       "        white-space: pre;\n",
       "    }\n",
       "\n",
       "    .dataframe td {\n",
       "        padding-top: 0;\n",
       "    }\n",
       "\n",
       "    .dataframe td {\n",
       "        padding-bottom: 0;\n",
       "    }\n",
       "\n",
       "    .dataframe td {\n",
       "        line-height: 95%;\n",
       "    }\n",
       "</style>\n",
       "<table border=\"1\" class=\"dataframe\" >\n",
       "<small>shape: (10, 2)</small>\n",
       "<thead>\n",
       "<tr>\n",
       "<th>\n",
       "subreddit_name\n",
       "</th>\n",
       "<th>\n",
       "num_comments\n",
       "</th>\n",
       "</tr>\n",
       "<tr>\n",
       "<td>\n",
       "str\n",
       "</td>\n",
       "<td>\n",
       "i64\n",
       "</td>\n",
       "</tr>\n",
       "</thead>\n",
       "<tbody>\n",
       "<tr>\n",
       "<td>\n",
       "&quot;politics&quot;\n",
       "</td>\n",
       "<td>\n",
       "370018\n",
       "</td>\n",
       "</tr>\n",
       "<tr>\n",
       "<td>\n",
       "&quot;worldnews&quot;\n",
       "</td>\n",
       "<td>\n",
       "351195\n",
       "</td>\n",
       "</tr>\n",
       "<tr>\n",
       "<td>\n",
       "&quot;askreddit&quot;\n",
       "</td>\n",
       "<td>\n",
       "259848\n",
       "</td>\n",
       "</tr>\n",
       "<tr>\n",
       "<td>\n",
       "&quot;collapse&quot;\n",
       "</td>\n",
       "<td>\n",
       "94696\n",
       "</td>\n",
       "</tr>\n",
       "<tr>\n",
       "<td>\n",
       "&quot;news&quot;\n",
       "</td>\n",
       "<td>\n",
       "94558\n",
       "</td>\n",
       "</tr>\n",
       "<tr>\n",
       "<td>\n",
       "&quot;futurology&quot;\n",
       "</td>\n",
       "<td>\n",
       "89945\n",
       "</td>\n",
       "</tr>\n",
       "<tr>\n",
       "<td>\n",
       "&quot;science&quot;\n",
       "</td>\n",
       "<td>\n",
       "71453\n",
       "</td>\n",
       "</tr>\n",
       "<tr>\n",
       "<td>\n",
       "&quot;environment&quot;\n",
       "</td>\n",
       "<td>\n",
       "70444\n",
       "</td>\n",
       "</tr>\n",
       "<tr>\n",
       "<td>\n",
       "&quot;canada&quot;\n",
       "</td>\n",
       "<td>\n",
       "66813\n",
       "</td>\n",
       "</tr>\n",
       "<tr>\n",
       "<td>\n",
       "&quot;australia&quot;\n",
       "</td>\n",
       "<td>\n",
       "60239\n",
       "</td>\n",
       "</tr>\n",
       "</tbody>\n",
       "</table>\n",
       "</div>"
      ],
      "text/plain": [
       "shape: (10, 2)\n",
       "┌────────────────┬──────────────┐\n",
       "│ subreddit_name ┆ num_comments │\n",
       "│ ---            ┆ ---          │\n",
       "│ str            ┆ i64          │\n",
       "╞════════════════╪══════════════╡\n",
       "│ politics       ┆ 370018       │\n",
       "├╌╌╌╌╌╌╌╌╌╌╌╌╌╌╌╌┼╌╌╌╌╌╌╌╌╌╌╌╌╌╌┤\n",
       "│ worldnews      ┆ 351195       │\n",
       "├╌╌╌╌╌╌╌╌╌╌╌╌╌╌╌╌┼╌╌╌╌╌╌╌╌╌╌╌╌╌╌┤\n",
       "│ askreddit      ┆ 259848       │\n",
       "├╌╌╌╌╌╌╌╌╌╌╌╌╌╌╌╌┼╌╌╌╌╌╌╌╌╌╌╌╌╌╌┤\n",
       "│ collapse       ┆ 94696        │\n",
       "├╌╌╌╌╌╌╌╌╌╌╌╌╌╌╌╌┼╌╌╌╌╌╌╌╌╌╌╌╌╌╌┤\n",
       "│ ...            ┆ ...          │\n",
       "├╌╌╌╌╌╌╌╌╌╌╌╌╌╌╌╌┼╌╌╌╌╌╌╌╌╌╌╌╌╌╌┤\n",
       "│ science        ┆ 71453        │\n",
       "├╌╌╌╌╌╌╌╌╌╌╌╌╌╌╌╌┼╌╌╌╌╌╌╌╌╌╌╌╌╌╌┤\n",
       "│ environment    ┆ 70444        │\n",
       "├╌╌╌╌╌╌╌╌╌╌╌╌╌╌╌╌┼╌╌╌╌╌╌╌╌╌╌╌╌╌╌┤\n",
       "│ canada         ┆ 66813        │\n",
       "├╌╌╌╌╌╌╌╌╌╌╌╌╌╌╌╌┼╌╌╌╌╌╌╌╌╌╌╌╌╌╌┤\n",
       "│ australia      ┆ 60239        │\n",
       "└────────────────┴──────────────┘"
      ]
     },
     "execution_count": 22,
     "metadata": {},
     "output_type": "execute_result"
    }
   ],
   "source": [
    "pl.DataFrame(data)  # Polars"
   ]
  },
  {
   "cell_type": "code",
   "execution_count": 23,
   "metadata": {
    "execution": {
     "iopub.execute_input": "2022-10-18T17:12:21.123615Z",
     "iopub.status.busy": "2022-10-18T17:12:21.123400Z",
     "iopub.status.idle": "2022-10-18T17:12:21.676218Z",
     "shell.execute_reply": "2022-10-18T17:12:21.675379Z",
     "shell.execute_reply.started": "2022-10-18T17:12:21.123590Z"
    }
   },
   "outputs": [],
   "source": [
    "df_most_comments = rel.df()"
   ]
  },
  {
   "cell_type": "code",
   "execution_count": 24,
   "metadata": {
    "execution": {
     "iopub.execute_input": "2022-10-18T17:12:21.680589Z",
     "iopub.status.busy": "2022-10-18T17:12:21.680384Z",
     "iopub.status.idle": "2022-10-18T17:12:21.693062Z",
     "shell.execute_reply": "2022-10-18T17:12:21.692288Z",
     "shell.execute_reply.started": "2022-10-18T17:12:21.680564Z"
    }
   },
   "outputs": [
    {
     "data": {
      "text/html": [
       "<div>\n",
       "<style scoped>\n",
       "    .dataframe tbody tr th:only-of-type {\n",
       "        vertical-align: middle;\n",
       "    }\n",
       "\n",
       "    .dataframe tbody tr th {\n",
       "        vertical-align: top;\n",
       "    }\n",
       "\n",
       "    .dataframe thead th {\n",
       "        text-align: right;\n",
       "    }\n",
       "</style>\n",
       "<table border=\"1\" class=\"dataframe\">\n",
       "  <thead>\n",
       "    <tr style=\"text-align: right;\">\n",
       "      <th></th>\n",
       "      <th>subreddit_name</th>\n",
       "      <th>num_comments</th>\n",
       "    </tr>\n",
       "  </thead>\n",
       "  <tbody>\n",
       "    <tr>\n",
       "      <th>0</th>\n",
       "      <td>politics</td>\n",
       "      <td>370018</td>\n",
       "    </tr>\n",
       "    <tr>\n",
       "      <th>1</th>\n",
       "      <td>worldnews</td>\n",
       "      <td>351195</td>\n",
       "    </tr>\n",
       "    <tr>\n",
       "      <th>2</th>\n",
       "      <td>askreddit</td>\n",
       "      <td>259848</td>\n",
       "    </tr>\n",
       "    <tr>\n",
       "      <th>3</th>\n",
       "      <td>collapse</td>\n",
       "      <td>94696</td>\n",
       "    </tr>\n",
       "    <tr>\n",
       "      <th>4</th>\n",
       "      <td>news</td>\n",
       "      <td>94558</td>\n",
       "    </tr>\n",
       "  </tbody>\n",
       "</table>\n",
       "</div>"
      ],
      "text/plain": [
       "  subreddit_name  num_comments\n",
       "0       politics        370018\n",
       "1      worldnews        351195\n",
       "2      askreddit        259848\n",
       "3       collapse         94696\n",
       "4           news         94558"
      ]
     },
     "execution_count": 24,
     "metadata": {},
     "output_type": "execute_result"
    }
   ],
   "source": [
    "df_most_comments.head()  # pandas"
   ]
  },
  {
   "cell_type": "code",
   "execution_count": 25,
   "metadata": {
    "execution": {
     "iopub.execute_input": "2022-10-18T17:12:21.696622Z",
     "iopub.status.busy": "2022-10-18T17:12:21.696268Z",
     "iopub.status.idle": "2022-10-18T17:12:21.706524Z",
     "shell.execute_reply": "2022-10-18T17:12:21.705735Z",
     "shell.execute_reply.started": "2022-10-18T17:12:21.696591Z"
    }
   },
   "outputs": [
    {
     "data": {
      "text/plain": [
       "[('politics',), ('worldnews',), ('askreddit',), ('collapse',), ('news',)]"
      ]
     },
     "execution_count": 25,
     "metadata": {},
     "output_type": "execute_result"
    }
   ],
   "source": [
    "conn.execute(\"\"\"\n",
    "SELECT subreddit_name\n",
    "FROM df_most_comments  -- Sorcery!\n",
    "LIMIT 5\n",
    "\"\"\").fetchall()"
   ]
  },
  {
   "cell_type": "code",
   "execution_count": 26,
   "metadata": {
    "execution": {
     "iopub.execute_input": "2022-10-18T17:12:21.708338Z",
     "iopub.status.busy": "2022-10-18T17:12:21.707532Z",
     "iopub.status.idle": "2022-10-18T17:12:21.718520Z",
     "shell.execute_reply": "2022-10-18T17:12:21.717883Z",
     "shell.execute_reply.started": "2022-10-18T17:12:21.708312Z"
    }
   },
   "outputs": [
    {
     "data": {
      "text/plain": [
       "<duckdb.DuckDBPyConnection at 0x7f55342cb670>"
      ]
     },
     "execution_count": 26,
     "metadata": {},
     "output_type": "execute_result"
    }
   ],
   "source": [
    "conn.register(\"most_comments_arrow\", data)"
   ]
  },
  {
   "cell_type": "code",
   "execution_count": 27,
   "metadata": {
    "execution": {
     "iopub.execute_input": "2022-10-18T17:12:21.720381Z",
     "iopub.status.busy": "2022-10-18T17:12:21.720104Z",
     "iopub.status.idle": "2022-10-18T17:12:21.769667Z",
     "shell.execute_reply": "2022-10-18T17:12:21.768956Z",
     "shell.execute_reply.started": "2022-10-18T17:12:21.720353Z"
    }
   },
   "outputs": [
    {
     "data": {
      "text/plain": [
       "[('politics',), ('worldnews',), ('askreddit',), ('collapse',), ('news',)]"
      ]
     },
     "execution_count": 27,
     "metadata": {},
     "output_type": "execute_result"
    }
   ],
   "source": [
    "conn.execute(\"\"\"\n",
    "SELECT subreddit_name\n",
    "FROM most_comments_arrow\n",
    "LIMIT 5\n",
    "\"\"\").fetchall()"
   ]
  },
  {
   "cell_type": "code",
   "execution_count": 28,
   "metadata": {
    "execution": {
     "iopub.execute_input": "2022-10-18T17:12:21.772989Z",
     "iopub.status.busy": "2022-10-18T17:12:21.772575Z",
     "iopub.status.idle": "2022-10-18T17:12:21.787485Z",
     "shell.execute_reply": "2022-10-18T17:12:21.783976Z",
     "shell.execute_reply.started": "2022-10-18T17:12:21.772956Z"
    }
   },
   "outputs": [
    {
     "name": "stdout",
     "output_type": "stream",
     "text": [
      " * duckdb:///:memory:\n",
      "Done.\n",
      "Returning data to local variable output\n"
     ]
    }
   ],
   "source": [
    "%sql output << SELECT subreddit_name FROM df_most_comments LIMIT 5"
   ]
  },
  {
   "cell_type": "code",
   "execution_count": 29,
   "metadata": {
    "execution": {
     "iopub.execute_input": "2022-10-18T17:12:21.790869Z",
     "iopub.status.busy": "2022-10-18T17:12:21.790627Z",
     "iopub.status.idle": "2022-10-18T17:12:21.811450Z",
     "shell.execute_reply": "2022-10-18T17:12:21.810758Z",
     "shell.execute_reply.started": "2022-10-18T17:12:21.790844Z"
    },
    "tags": []
   },
   "outputs": [
    {
     "data": {
      "text/html": [
       "<div>\n",
       "<style scoped>\n",
       "    .dataframe tbody tr th:only-of-type {\n",
       "        vertical-align: middle;\n",
       "    }\n",
       "\n",
       "    .dataframe tbody tr th {\n",
       "        vertical-align: top;\n",
       "    }\n",
       "\n",
       "    .dataframe thead th {\n",
       "        text-align: right;\n",
       "    }\n",
       "</style>\n",
       "<table border=\"1\" class=\"dataframe\">\n",
       "  <thead>\n",
       "    <tr style=\"text-align: right;\">\n",
       "      <th></th>\n",
       "      <th>subreddit_name</th>\n",
       "    </tr>\n",
       "  </thead>\n",
       "  <tbody>\n",
       "    <tr>\n",
       "      <th>0</th>\n",
       "      <td>politics</td>\n",
       "    </tr>\n",
       "    <tr>\n",
       "      <th>1</th>\n",
       "      <td>worldnews</td>\n",
       "    </tr>\n",
       "    <tr>\n",
       "      <th>2</th>\n",
       "      <td>askreddit</td>\n",
       "    </tr>\n",
       "    <tr>\n",
       "      <th>3</th>\n",
       "      <td>collapse</td>\n",
       "    </tr>\n",
       "    <tr>\n",
       "      <th>4</th>\n",
       "      <td>news</td>\n",
       "    </tr>\n",
       "  </tbody>\n",
       "</table>\n",
       "</div>"
      ],
      "text/plain": [
       "  subreddit_name\n",
       "0       politics\n",
       "1      worldnews\n",
       "2      askreddit\n",
       "3       collapse\n",
       "4           news"
      ]
     },
     "execution_count": 29,
     "metadata": {},
     "output_type": "execute_result"
    }
   ],
   "source": [
    "output.DataFrame()  # pandas"
   ]
  },
  {
   "cell_type": "markdown",
   "metadata": {},
   "source": [
    "---"
   ]
  },
  {
   "cell_type": "code",
   "execution_count": 30,
   "metadata": {
    "execution": {
     "iopub.execute_input": "2022-10-18T17:12:21.815306Z",
     "iopub.status.busy": "2022-10-18T17:12:21.814830Z",
     "iopub.status.idle": "2022-10-18T17:12:22.634460Z",
     "shell.execute_reply": "2022-10-18T17:12:22.633693Z",
     "shell.execute_reply.started": "2022-10-18T17:12:21.815280Z"
    }
   },
   "outputs": [
    {
     "data": {
      "text/html": [
       "<div>\n",
       "<style scoped>\n",
       "    .dataframe tbody tr th:only-of-type {\n",
       "        vertical-align: middle;\n",
       "    }\n",
       "\n",
       "    .dataframe tbody tr th {\n",
       "        vertical-align: top;\n",
       "    }\n",
       "\n",
       "    .dataframe thead th {\n",
       "        text-align: right;\n",
       "    }\n",
       "</style>\n",
       "<table border=\"1\" class=\"dataframe\">\n",
       "  <thead>\n",
       "    <tr style=\"text-align: right;\">\n",
       "      <th></th>\n",
       "      <th>subreddit_name</th>\n",
       "      <th>num_comments</th>\n",
       "    </tr>\n",
       "  </thead>\n",
       "  <tbody>\n",
       "    <tr>\n",
       "      <th>0</th>\n",
       "      <td>askreddit</td>\n",
       "      <td>259848</td>\n",
       "    </tr>\n",
       "    <tr>\n",
       "      <th>1</th>\n",
       "      <td>politics</td>\n",
       "      <td>370018</td>\n",
       "    </tr>\n",
       "    <tr>\n",
       "      <th>2</th>\n",
       "      <td>worldnews</td>\n",
       "      <td>351195</td>\n",
       "    </tr>\n",
       "  </tbody>\n",
       "</table>\n",
       "</div>"
      ],
      "text/plain": [
       "  subreddit_name  num_comments\n",
       "0      askreddit        259848\n",
       "1       politics        370018\n",
       "2      worldnews        351195"
      ]
     },
     "execution_count": 30,
     "metadata": {},
     "output_type": "execute_result"
    }
   ],
   "source": [
    "rel.filter(\"num_comments > 100000\").order(\"subreddit_name\").df()"
   ]
  },
  {
   "cell_type": "code",
   "execution_count": 31,
   "metadata": {
    "execution": {
     "iopub.execute_input": "2022-10-18T17:12:22.637984Z",
     "iopub.status.busy": "2022-10-18T17:12:22.637790Z",
     "iopub.status.idle": "2022-10-18T17:12:24.168972Z",
     "shell.execute_reply": "2022-10-18T17:12:24.168035Z",
     "shell.execute_reply.started": "2022-10-18T17:12:22.637960Z"
    },
    "tags": []
   },
   "outputs": [
    {
     "name": "stdout",
     "output_type": "stream",
     "text": [
      "┌────────────────────┬──────────────┐\n",
      "│   subreddit_name   │ num_comments │\n",
      "├────────────────────┼──────────────┤\n",
      "│ christianity       │ 9746         │\n",
      "│ technology         │ 24145        │\n",
      "│ videos             │ 26813        │\n",
      "│ truscum            │ 93           │\n",
      "│ gardening          │ 1390         │\n",
      "│ conspiracy_commons │ 2252         │\n",
      "│ askreddit          │ 259848       │\n",
      "│ interestingasfuck  │ 17063        │\n",
      "│ gamingcirclejerk   │ 2719         │\n",
      "│ funnymemes         │ 271          │\n",
      "└────────────────────┴──────────────┘\n"
     ]
    }
   ],
   "source": [
    "!./duckdb -c ' \\\n",
    "SELECT \\\n",
    "  \"subreddit.name\" AS subreddit_name, \\\n",
    "  COUNT(*) AS num_comments \\\n",
    "FROM \"/data/reddit-climate/the-reddit-climate-change-dataset-comments.parquet\" \\\n",
    "GROUP BY subreddit_name \\\n",
    "LIMIT 10 \\\n",
    "'"
   ]
  }
 ],
 "metadata": {
  "kernelspec": {
   "display_name": "Python 3",
   "language": "python",
   "name": "orchest-kernel-f5aeab89-be72-44fc-b6b2-96db16a0362e"
  },
  "language_info": {
   "codemirror_mode": {
    "name": "ipython",
    "version": 3
   },
   "file_extension": ".py",
   "mimetype": "text/x-python",
   "name": "python",
   "nbconvert_exporter": "python",
   "pygments_lexer": "ipython3",
   "version": "3.9.10"
  }
 },
 "nbformat": 4,
 "nbformat_minor": 4
}
