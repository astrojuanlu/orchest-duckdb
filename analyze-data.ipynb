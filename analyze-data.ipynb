{
 "cells": [
  {
   "cell_type": "code",
   "execution_count": 1,
   "metadata": {
    "execution": {
     "iopub.execute_input": "2022-10-19T14:56:46.044018Z",
     "iopub.status.busy": "2022-10-19T14:56:46.041985Z",
     "iopub.status.idle": "2022-10-19T14:56:46.168742Z",
     "shell.execute_reply": "2022-10-19T14:56:46.168087Z",
     "shell.execute_reply.started": "2022-10-19T14:56:46.043936Z"
    },
    "tags": []
   },
   "outputs": [],
   "source": [
    "import duckdb"
   ]
  },
  {
   "cell_type": "code",
   "execution_count": 2,
   "metadata": {
    "execution": {
     "iopub.execute_input": "2022-10-19T14:56:47.002383Z",
     "iopub.status.busy": "2022-10-19T14:56:47.001792Z",
     "iopub.status.idle": "2022-10-19T14:56:47.014589Z",
     "shell.execute_reply": "2022-10-19T14:56:47.013893Z",
     "shell.execute_reply.started": "2022-10-19T14:56:47.002355Z"
    },
    "tags": []
   },
   "outputs": [],
   "source": [
    "conn = duckdb.connect()"
   ]
  },
  {
   "cell_type": "code",
   "execution_count": 3,
   "metadata": {
    "execution": {
     "iopub.execute_input": "2022-10-19T14:56:47.663194Z",
     "iopub.status.busy": "2022-10-19T14:56:47.662680Z",
     "iopub.status.idle": "2022-10-19T14:56:48.357181Z",
     "shell.execute_reply": "2022-10-19T14:56:48.356393Z",
     "shell.execute_reply.started": "2022-10-19T14:56:47.663166Z"
    },
    "tags": []
   },
   "outputs": [
    {
     "name": "stdout",
     "output_type": "stream",
     "text": [
      "3.9G\t/data/reddit-climate/the-reddit-climate-change-dataset-comments.csv\n",
      "250M\t/data/reddit-climate/the-reddit-climate-change-dataset-posts.csv\n"
     ]
    }
   ],
   "source": [
    "!du -sh /data/reddit-climate/*.csv"
   ]
  },
  {
   "cell_type": "code",
   "execution_count": 4,
   "metadata": {
    "execution": {
     "iopub.execute_input": "2022-10-19T14:56:48.756899Z",
     "iopub.status.busy": "2022-10-19T14:56:48.756642Z",
     "iopub.status.idle": "2022-10-19T14:56:49.470281Z",
     "shell.execute_reply": "2022-10-19T14:56:49.469482Z",
     "shell.execute_reply.started": "2022-10-19T14:56:48.756868Z"
    },
    "tags": []
   },
   "outputs": [
    {
     "name": "stdout",
     "output_type": "stream",
     "text": [
      "type,id,subreddit.id,subreddit.name,subreddit.nsfw,created_utc,permalink,body,sentiment,score\n",
      "comment,imlddn9,2qh3l,news,false,1661990368,https://old.reddit.com/r/news/comments/x2cszk/us_life_expectancy_down_for_secondstraight_year/imlddn9/,\"Yeah but what the above commenter is saying is their base doesn’t want any of that. They detest all of those things, even the small gradual changes. Investing in nuclear energy is a tacit acknowledgement of man made climate change. Any acknowledgement or concession and they will be primaried out in a minute\",0.5719,2\n",
      "comment,imldbeh,2qn7b,ohio,false,1661990340,https://old.reddit.com/r/Ohio/comments/x2awnp/state_government_may_soon_kill_a_solar_project_in/imldbeh/,\"Any comparison of efficiency between solar and fossil fuels is nonsensical at best and intentionally misleading at worst. In no universe is light -&gt; photovoltaic cell -&gt; electricity less efficient than light -&gt; entire food chain -&gt; biomass -&gt; decomposition -&gt; millions of years of geothermal heat and pressure -&gt; extraction -&gt; refining and transport -&gt; burning -&gt; turbine generator -&gt; electricity.\n",
      "\n",
      "Ugly? More ugly than power lines, roads, apartment buildings, tractors, fences, etc etc etc? You're simply not used to it. Also, who cares? Sure, millions of people died in the displacement from sea rise, famines cause by climate change, and wars from resource scarcity, but thank God we didn't have to look at those solar panels occasionally.\n",
      "\n",
      "Offshore fracking? Fucks sake. Have you already forgotten the deepwater horizon disaster? Think about the damage that did to the gulf coast, add a few million barrels of highly toxic fracking fluid to the mix, and there you have our next major environmental disaster courtesy of offshore fracking. But oh man, those solar panels sure are ugly.\n",
      "\n",
      "Stop repeating the lies fed to you by the people getting rich from fossil fuels, who couldn't care less about you or your descendants as long as they get theirs. We can deal with the less environmentally friendly aspects of solar power. We cannot deal with the consequences of continuing to pump carbon into the atmosphere. Y'all need to grow the fuck up and stop whining about the view.\",-0.9877,2\n",
      "comment,imldado,2qhma,newzealand,false,1661990327,https://old.reddit.com/r/newzealand/comments/x28xci/long_rant_pessimistic_asf_and_feel_like_were/imldado/,\"I'm honestly waiting for climate change and the impacts of that to kick some fucking sense into people. But who am I kidding itll still just be more of the poor suffering while the rich claim victim hood for handouts while letting us all starve. Its honestly hard some days to not just give up, and I truly wonder if and when anything will ever actually be done.\",-0.1143,1\n"
     ]
    }
   ],
   "source": [
    "!head /data/reddit-climate/the-reddit-climate-change-dataset-comments.csv"
   ]
  },
  {
   "cell_type": "code",
   "execution_count": 5,
   "metadata": {
    "execution": {
     "iopub.execute_input": "2022-10-19T14:56:49.769371Z",
     "iopub.status.busy": "2022-10-19T14:56:49.768677Z",
     "iopub.status.idle": "2022-10-19T14:57:41.166823Z",
     "shell.execute_reply": "2022-10-19T14:57:41.166110Z",
     "shell.execute_reply.started": "2022-10-19T14:56:49.769331Z"
    },
    "tags": []
   },
   "outputs": [
    {
     "data": {
      "text/plain": [
       "[(4600698,)]"
      ]
     },
     "execution_count": 5,
     "metadata": {},
     "output_type": "execute_result"
    }
   ],
   "source": [
    "conn.query(\"\"\"\n",
    "SELECT COUNT(*)\n",
    "FROM '/data/reddit-climate/the-reddit-climate-change-dataset-comments.csv'\n",
    "\"\"\").fetchall()"
   ]
  },
  {
   "cell_type": "code",
   "execution_count": 6,
   "metadata": {
    "execution": {
     "iopub.execute_input": "2022-10-19T14:57:41.169064Z",
     "iopub.status.busy": "2022-10-19T14:57:41.168859Z",
     "iopub.status.idle": "2022-10-19T14:57:41.233526Z",
     "shell.execute_reply": "2022-10-19T14:57:41.232676Z",
     "shell.execute_reply.started": "2022-10-19T14:57:41.169039Z"
    },
    "tags": []
   },
   "outputs": [
    {
     "name": "stdout",
     "output_type": "stream",
     "text": [
      "Reading /data/reddit-climate/the-reddit-climate-change-dataset-comments.csv...\n",
      "Reading /data/reddit-climate/the-reddit-climate-change-dataset-posts.csv...\n"
     ]
    }
   ],
   "source": [
    "import os\n",
    "\n",
    "csv_files = !ls /data/reddit-climate/*.csv\n",
    "\n",
    "for filename in csv_files:\n",
    "    print(f\"Reading {filename}...\")\n",
    "\n",
    "    destination_file = os.path.splitext(filename)[0] + \".parquet\"\n",
    "    if os.path.isfile(destination_file):\n",
    "        continue\n",
    "\n",
    "    conn.execute(f\"\"\"\n",
    "    COPY (SELECT * FROM '{filename}')\n",
    "    TO '{destination_file}' (FORMAT 'parquet')\n",
    "    \"\"\")"
   ]
  },
  {
   "cell_type": "code",
   "execution_count": 7,
   "metadata": {
    "execution": {
     "iopub.execute_input": "2022-10-19T14:57:41.235095Z",
     "iopub.status.busy": "2022-10-19T14:57:41.234898Z",
     "iopub.status.idle": "2022-10-19T14:57:41.935503Z",
     "shell.execute_reply": "2022-10-19T14:57:41.934695Z",
     "shell.execute_reply.started": "2022-10-19T14:57:41.235066Z"
    },
    "tags": []
   },
   "outputs": [
    {
     "name": "stdout",
     "output_type": "stream",
     "text": [
      "2.2G\t/data/reddit-climate/the-reddit-climate-change-dataset-comments.parquet\n",
      "92M\t/data/reddit-climate/the-reddit-climate-change-dataset-posts.parquet\n"
     ]
    }
   ],
   "source": [
    "!du -sh /data/reddit-climate/*.parquet"
   ]
  },
  {
   "cell_type": "code",
   "execution_count": 8,
   "metadata": {
    "execution": {
     "iopub.execute_input": "2022-10-19T14:57:41.938902Z",
     "iopub.status.busy": "2022-10-19T14:57:41.938694Z",
     "iopub.status.idle": "2022-10-19T14:57:41.971469Z",
     "shell.execute_reply": "2022-10-19T14:57:41.970824Z",
     "shell.execute_reply.started": "2022-10-19T14:57:41.938873Z"
    },
    "tags": []
   },
   "outputs": [
    {
     "data": {
      "text/plain": [
       "[(4600698,)]"
      ]
     },
     "execution_count": 8,
     "metadata": {},
     "output_type": "execute_result"
    }
   ],
   "source": [
    "conn.execute(\"\"\"\n",
    "SELECT COUNT(*)\n",
    "FROM '/data/reddit-climate/the-reddit-climate-change-dataset-comments.parquet'\n",
    "\"\"\").fetchall()"
   ]
  },
  {
   "cell_type": "markdown",
   "metadata": {},
   "source": [
    "---"
   ]
  },
  {
   "cell_type": "code",
   "execution_count": 9,
   "metadata": {
    "execution": {
     "iopub.execute_input": "2022-10-19T14:57:41.977714Z",
     "iopub.status.busy": "2022-10-19T14:57:41.975607Z",
     "iopub.status.idle": "2022-10-19T14:57:41.986263Z",
     "shell.execute_reply": "2022-10-19T14:57:41.985451Z",
     "shell.execute_reply.started": "2022-10-19T14:57:41.977683Z"
    },
    "tags": []
   },
   "outputs": [
    {
     "data": {
      "text/plain": [
       "<duckdb.DuckDBPyConnection at 0x7f86a0383bb0>"
      ]
     },
     "execution_count": 9,
     "metadata": {},
     "output_type": "execute_result"
    }
   ],
   "source": [
    "conn.execute(\"\"\"\n",
    "CREATE VIEW comments AS\n",
    "SELECT * FROM '/data/reddit-climate/the-reddit-climate-change-dataset-comments.parquet'\n",
    "\"\"\")"
   ]
  },
  {
   "cell_type": "code",
   "execution_count": 10,
   "metadata": {
    "execution": {
     "iopub.execute_input": "2022-10-19T14:57:41.993427Z",
     "iopub.status.busy": "2022-10-19T14:57:41.989376Z",
     "iopub.status.idle": "2022-10-19T14:57:42.288521Z",
     "shell.execute_reply": "2022-10-19T14:57:42.287721Z",
     "shell.execute_reply.started": "2022-10-19T14:57:41.993398Z"
    },
    "tags": []
   },
   "outputs": [
    {
     "data": {
      "text/plain": [
       "[('politics', 370018),\n",
       " ('worldnews', 351195),\n",
       " ('askreddit', 259848),\n",
       " ('collapse', 94696),\n",
       " ('news', 94558),\n",
       " ('futurology', 89945),\n",
       " ('science', 71453),\n",
       " ('environment', 70444),\n",
       " ('canada', 66813),\n",
       " ('australia', 60239)]"
      ]
     },
     "execution_count": 10,
     "metadata": {},
     "output_type": "execute_result"
    }
   ],
   "source": [
    "conn.execute(\"\"\"\n",
    "SELECT\n",
    "  \"subreddit.name\" AS subreddit_name,\n",
    "  COUNT(*) AS num_comments,\n",
    "FROM comments\n",
    "GROUP BY subreddit_name\n",
    "ORDER BY num_comments DESC\n",
    "LIMIT 10\n",
    "\"\"\").fetchall()"
   ]
  },
  {
   "cell_type": "code",
   "execution_count": 11,
   "metadata": {
    "execution": {
     "iopub.execute_input": "2022-10-19T14:57:42.289718Z",
     "iopub.status.busy": "2022-10-19T14:57:42.289542Z",
     "iopub.status.idle": "2022-10-19T14:57:42.847539Z",
     "shell.execute_reply": "2022-10-19T14:57:42.843500Z",
     "shell.execute_reply.started": "2022-10-19T14:57:42.289694Z"
    },
    "tags": []
   },
   "outputs": [],
   "source": [
    "result = conn.execute(\"\"\"\n",
    "SELECT\n",
    "  \"subreddit.name\" AS subreddit_name,\n",
    "  COUNT(*) AS num_comments,\n",
    "  AVG(sentiment) AS average_sentiment,\n",
    "  STDDEV(sentiment) AS stddev_sentiment,\n",
    "FROM comments\n",
    "WHERE subreddit_name IN (\n",
    "  SELECT \"subreddit.name\" AS subreddit_name\n",
    "  FROM comments\n",
    "  GROUP BY subreddit_name\n",
    "  ORDER BY COUNT(*) DESC\n",
    "  LIMIT 10\n",
    ")\n",
    "GROUP BY subreddit_name\n",
    "ORDER BY num_comments DESC\n",
    "\"\"\")"
   ]
  },
  {
   "cell_type": "code",
   "execution_count": 12,
   "metadata": {
    "execution": {
     "iopub.execute_input": "2022-10-19T14:57:42.851437Z",
     "iopub.status.busy": "2022-10-19T14:57:42.850906Z",
     "iopub.status.idle": "2022-10-19T14:57:43.379051Z",
     "shell.execute_reply": "2022-10-19T14:57:43.378353Z",
     "shell.execute_reply.started": "2022-10-19T14:57:42.851410Z"
    },
    "tags": []
   },
   "outputs": [
    {
     "data": {
      "text/plain": [
       "[('politics', 370018, -0.018118589649651625, 0.660029706140797),\n",
       " ('worldnews', 351195, -0.058001587387908615, 0.6405990095462698),\n",
       " ('askreddit', 259848, -0.06863721863923519, 0.6089748718101458),\n",
       " ('collapse', 94696, -0.13326616263904173, 0.6667106776062675),\n",
       " ('news', 94558, -0.09367126059175662, 0.627613446123926),\n",
       " ('futurology', 89945, 0.0018637489115630396, 0.6506820198836234),\n",
       " ('science', 71453, 0.045882168529229765, 0.6248484283076328),\n",
       " ('environment', 70444, -0.015670189810189975, 0.6467846578160428),\n",
       " ('canada', 66813, 0.021118244331091496, 0.6408319443539486),\n",
       " ('australia', 60239, -0.02186951929654748, 0.640580381910351)]"
      ]
     },
     "execution_count": 12,
     "metadata": {},
     "output_type": "execute_result"
    }
   ],
   "source": [
    "conn.execute(\"\"\"\n",
    "SELECT\n",
    "  \"subreddit.name\" AS subreddit_name,\n",
    "  COUNT(*) AS num_comments,\n",
    "  AVG(sentiment) AS average_sentiment,\n",
    "  STDDEV(sentiment) AS stddev_sentiment,\n",
    "FROM comments\n",
    "WHERE subreddit_name IN (\n",
    "  SELECT \"subreddit.name\" AS subreddit_name\n",
    "  FROM comments\n",
    "  GROUP BY subreddit_name\n",
    "  ORDER BY COUNT(*) DESC\n",
    "  LIMIT 10\n",
    ")\n",
    "GROUP BY subreddit_name\n",
    "ORDER BY num_comments DESC\n",
    "\"\"\").fetchall()"
   ]
  },
  {
   "cell_type": "code",
   "execution_count": 13,
   "metadata": {
    "execution": {
     "iopub.execute_input": "2022-10-19T14:57:43.382953Z",
     "iopub.status.busy": "2022-10-19T14:57:43.382184Z",
     "iopub.status.idle": "2022-10-19T14:57:44.320059Z",
     "shell.execute_reply": "2022-10-19T14:57:44.319318Z",
     "shell.execute_reply.started": "2022-10-19T14:57:43.382923Z"
    },
    "tags": []
   },
   "outputs": [],
   "source": [
    "%load_ext sql"
   ]
  },
  {
   "cell_type": "code",
   "execution_count": 14,
   "metadata": {
    "execution": {
     "iopub.execute_input": "2022-10-19T14:57:44.322729Z",
     "iopub.status.busy": "2022-10-19T14:57:44.322531Z",
     "iopub.status.idle": "2022-10-19T14:57:44.374565Z",
     "shell.execute_reply": "2022-10-19T14:57:44.373806Z",
     "shell.execute_reply.started": "2022-10-19T14:57:44.322704Z"
    },
    "tags": []
   },
   "outputs": [],
   "source": [
    "%sql duckdb:///:memory:"
   ]
  },
  {
   "cell_type": "code",
   "execution_count": 15,
   "metadata": {
    "execution": {
     "iopub.execute_input": "2022-10-19T14:57:44.378445Z",
     "iopub.status.busy": "2022-10-19T14:57:44.377914Z",
     "iopub.status.idle": "2022-10-19T14:57:44.393324Z",
     "shell.execute_reply": "2022-10-19T14:57:44.392629Z",
     "shell.execute_reply.started": "2022-10-19T14:57:44.378418Z"
    },
    "tags": []
   },
   "outputs": [
    {
     "name": "stdout",
     "output_type": "stream",
     "text": [
      " * duckdb:///:memory:\n",
      "Done.\n"
     ]
    },
    {
     "data": {
      "text/html": [
       "<table>\n",
       "    <tr>\n",
       "        <th>Count</th>\n",
       "    </tr>\n",
       "</table>"
      ],
      "text/plain": [
       "[]"
      ]
     },
     "execution_count": 15,
     "metadata": {},
     "output_type": "execute_result"
    }
   ],
   "source": [
    "%sql CREATE VIEW comments AS SELECT * FROM '/data/reddit-climate/the-reddit-climate-change-dataset-comments.parquet'"
   ]
  },
  {
   "cell_type": "code",
   "execution_count": 16,
   "metadata": {
    "execution": {
     "iopub.execute_input": "2022-10-19T14:57:44.395469Z",
     "iopub.status.busy": "2022-10-19T14:57:44.394353Z",
     "iopub.status.idle": "2022-10-19T14:57:44.410615Z",
     "shell.execute_reply": "2022-10-19T14:57:44.409975Z",
     "shell.execute_reply.started": "2022-10-19T14:57:44.395442Z"
    },
    "tags": []
   },
   "outputs": [
    {
     "name": "stdout",
     "output_type": "stream",
     "text": [
      " * duckdb:///:memory:\n",
      "Done.\n"
     ]
    },
    {
     "data": {
      "text/html": [
       "<table>\n",
       "    <tr>\n",
       "        <th>count_star()</th>\n",
       "    </tr>\n",
       "    <tr>\n",
       "        <td>4600698</td>\n",
       "    </tr>\n",
       "</table>"
      ],
      "text/plain": [
       "[(4600698,)]"
      ]
     },
     "execution_count": 16,
     "metadata": {},
     "output_type": "execute_result"
    }
   ],
   "source": [
    "%sql SELECT COUNT(*) FROM comments"
   ]
  },
  {
   "cell_type": "markdown",
   "metadata": {},
   "source": [
    "---"
   ]
  },
  {
   "cell_type": "code",
   "execution_count": 17,
   "metadata": {
    "execution": {
     "iopub.execute_input": "2022-10-19T14:57:44.412254Z",
     "iopub.status.busy": "2022-10-19T14:57:44.411399Z",
     "iopub.status.idle": "2022-10-19T14:57:44.421940Z",
     "shell.execute_reply": "2022-10-19T14:57:44.420659Z",
     "shell.execute_reply.started": "2022-10-19T14:57:44.412229Z"
    },
    "tags": []
   },
   "outputs": [],
   "source": [
    "rel = conn.query(\"\"\"\n",
    "SELECT\n",
    "  \"subreddit.name\" AS subreddit_name,\n",
    "  COUNT(*) AS num_comments,\n",
    "FROM comments\n",
    "GROUP BY subreddit_name\n",
    "ORDER BY num_comments DESC\n",
    "LIMIT 10\n",
    "\"\"\")"
   ]
  },
  {
   "cell_type": "code",
   "execution_count": 18,
   "metadata": {
    "execution": {
     "iopub.execute_input": "2022-10-19T14:57:44.425454Z",
     "iopub.status.busy": "2022-10-19T14:57:44.424972Z",
     "iopub.status.idle": "2022-10-19T14:57:44.434117Z",
     "shell.execute_reply": "2022-10-19T14:57:44.433322Z",
     "shell.execute_reply.started": "2022-10-19T14:57:44.425428Z"
    },
    "tags": []
   },
   "outputs": [
    {
     "data": {
      "text/plain": [
       "duckdb.DuckDBPyRelation"
      ]
     },
     "execution_count": 18,
     "metadata": {},
     "output_type": "execute_result"
    }
   ],
   "source": [
    "type(rel)"
   ]
  },
  {
   "cell_type": "code",
   "execution_count": 19,
   "metadata": {
    "execution": {
     "iopub.execute_input": "2022-10-19T14:57:44.437248Z",
     "iopub.status.busy": "2022-10-19T14:57:44.436970Z",
     "iopub.status.idle": "2022-10-19T14:57:44.696849Z",
     "shell.execute_reply": "2022-10-19T14:57:44.696086Z",
     "shell.execute_reply.started": "2022-10-19T14:57:44.437223Z"
    },
    "tags": []
   },
   "outputs": [
    {
     "data": {
      "text/plain": [
       "---------------------\n",
       "--- Relation Tree ---\n",
       "---------------------\n",
       "Subquery\n",
       "\n",
       "---------------------\n",
       "-- Result Columns  --\n",
       "---------------------\n",
       "- subreddit_name (VARCHAR)\n",
       "- num_comments (BIGINT)\n",
       "\n",
       "---------------------\n",
       "-- Result Preview  --\n",
       "---------------------\n",
       "subreddit_name\tnum_comments\t\n",
       "VARCHAR\tBIGINT\t\n",
       "[ Rows: 10]\n",
       "politics\t370018\n",
       "worldnews\t351195\n",
       "askreddit\t259848\n",
       "collapse\t94696\n",
       "news\t94558\n",
       "futurology\t89945\n",
       "science\t71453\n",
       "environment\t70444\n",
       "canada\t66813\n",
       "australia\t60239\n",
       "\n"
      ]
     },
     "execution_count": 19,
     "metadata": {},
     "output_type": "execute_result"
    }
   ],
   "source": [
    "rel"
   ]
  },
  {
   "cell_type": "code",
   "execution_count": 20,
   "metadata": {
    "execution": {
     "iopub.execute_input": "2022-10-19T14:57:44.698290Z",
     "iopub.status.busy": "2022-10-19T14:57:44.698087Z",
     "iopub.status.idle": "2022-10-19T14:57:44.944503Z",
     "shell.execute_reply": "2022-10-19T14:57:44.943814Z",
     "shell.execute_reply.started": "2022-10-19T14:57:44.698266Z"
    },
    "tags": []
   },
   "outputs": [
    {
     "data": {
      "text/html": [
       "<div>\n",
       "<style scoped>\n",
       "    .dataframe tbody tr th:only-of-type {\n",
       "        vertical-align: middle;\n",
       "    }\n",
       "\n",
       "    .dataframe tbody tr th {\n",
       "        vertical-align: top;\n",
       "    }\n",
       "\n",
       "    .dataframe thead th {\n",
       "        text-align: right;\n",
       "    }\n",
       "</style>\n",
       "<table border=\"1\" class=\"dataframe\">\n",
       "  <thead>\n",
       "    <tr style=\"text-align: right;\">\n",
       "      <th></th>\n",
       "      <th>subreddit_name</th>\n",
       "      <th>num_comments</th>\n",
       "    </tr>\n",
       "  </thead>\n",
       "  <tbody>\n",
       "    <tr>\n",
       "      <th>0</th>\n",
       "      <td>politics</td>\n",
       "      <td>370018</td>\n",
       "    </tr>\n",
       "    <tr>\n",
       "      <th>1</th>\n",
       "      <td>worldnews</td>\n",
       "      <td>351195</td>\n",
       "    </tr>\n",
       "    <tr>\n",
       "      <th>2</th>\n",
       "      <td>askreddit</td>\n",
       "      <td>259848</td>\n",
       "    </tr>\n",
       "    <tr>\n",
       "      <th>3</th>\n",
       "      <td>collapse</td>\n",
       "      <td>94696</td>\n",
       "    </tr>\n",
       "    <tr>\n",
       "      <th>4</th>\n",
       "      <td>news</td>\n",
       "      <td>94558</td>\n",
       "    </tr>\n",
       "    <tr>\n",
       "      <th>5</th>\n",
       "      <td>futurology</td>\n",
       "      <td>89945</td>\n",
       "    </tr>\n",
       "    <tr>\n",
       "      <th>6</th>\n",
       "      <td>science</td>\n",
       "      <td>71453</td>\n",
       "    </tr>\n",
       "    <tr>\n",
       "      <th>7</th>\n",
       "      <td>environment</td>\n",
       "      <td>70444</td>\n",
       "    </tr>\n",
       "    <tr>\n",
       "      <th>8</th>\n",
       "      <td>canada</td>\n",
       "      <td>66813</td>\n",
       "    </tr>\n",
       "    <tr>\n",
       "      <th>9</th>\n",
       "      <td>australia</td>\n",
       "      <td>60239</td>\n",
       "    </tr>\n",
       "  </tbody>\n",
       "</table>\n",
       "</div>"
      ],
      "text/plain": [
       "  subreddit_name  num_comments\n",
       "0       politics        370018\n",
       "1      worldnews        351195\n",
       "2      askreddit        259848\n",
       "3       collapse         94696\n",
       "4           news         94558\n",
       "5     futurology         89945\n",
       "6        science         71453\n",
       "7    environment         70444\n",
       "8         canada         66813\n",
       "9      australia         60239"
      ]
     },
     "execution_count": 20,
     "metadata": {},
     "output_type": "execute_result"
    }
   ],
   "source": [
    "rel.df()  # pandas"
   ]
  },
  {
   "cell_type": "code",
   "execution_count": 21,
   "metadata": {
    "execution": {
     "iopub.execute_input": "2022-10-19T14:57:44.945859Z",
     "iopub.status.busy": "2022-10-19T14:57:44.945682Z",
     "iopub.status.idle": "2022-10-19T14:57:44.999610Z",
     "shell.execute_reply": "2022-10-19T14:57:44.999025Z",
     "shell.execute_reply.started": "2022-10-19T14:57:44.945836Z"
    },
    "tags": []
   },
   "outputs": [],
   "source": [
    "import polars as pl"
   ]
  },
  {
   "cell_type": "code",
   "execution_count": 22,
   "metadata": {
    "execution": {
     "iopub.execute_input": "2022-10-19T14:57:45.001130Z",
     "iopub.status.busy": "2022-10-19T14:57:45.000761Z",
     "iopub.status.idle": "2022-10-19T14:57:45.309051Z",
     "shell.execute_reply": "2022-10-19T14:57:45.308209Z",
     "shell.execute_reply.started": "2022-10-19T14:57:45.001103Z"
    },
    "tags": []
   },
   "outputs": [],
   "source": [
    "data = rel.arrow()  # Arrow data"
   ]
  },
  {
   "cell_type": "code",
   "execution_count": 23,
   "metadata": {
    "execution": {
     "iopub.execute_input": "2022-10-19T14:57:45.311735Z",
     "iopub.status.busy": "2022-10-19T14:57:45.310351Z",
     "iopub.status.idle": "2022-10-19T14:57:45.321743Z",
     "shell.execute_reply": "2022-10-19T14:57:45.321048Z",
     "shell.execute_reply.started": "2022-10-19T14:57:45.311708Z"
    },
    "tags": []
   },
   "outputs": [
    {
     "data": {
      "text/html": [
       "<div>\n",
       "<style scoped>\n",
       "    .dataframe tbody tr th:only-of-type {\n",
       "        vertical-align: middle;\n",
       "    }\n",
       "\n",
       "    .dataframe tbody tr th {\n",
       "        vertical-align: top;\n",
       "    }\n",
       "\n",
       "    .dataframe thead th {\n",
       "        text-align: right;\n",
       "    }\n",
       "\n",
       "    .dataframe td {\n",
       "        white-space: pre;\n",
       "    }\n",
       "\n",
       "    .dataframe td {\n",
       "        padding-top: 0;\n",
       "    }\n",
       "\n",
       "    .dataframe td {\n",
       "        padding-bottom: 0;\n",
       "    }\n",
       "\n",
       "    .dataframe td {\n",
       "        line-height: 95%;\n",
       "    }\n",
       "</style>\n",
       "<table border=\"1\" class=\"dataframe\" >\n",
       "<small>shape: (10, 2)</small>\n",
       "<thead>\n",
       "<tr>\n",
       "<th>\n",
       "subreddit_name\n",
       "</th>\n",
       "<th>\n",
       "num_comments\n",
       "</th>\n",
       "</tr>\n",
       "<tr>\n",
       "<td>\n",
       "str\n",
       "</td>\n",
       "<td>\n",
       "i64\n",
       "</td>\n",
       "</tr>\n",
       "</thead>\n",
       "<tbody>\n",
       "<tr>\n",
       "<td>\n",
       "&quot;politics&quot;\n",
       "</td>\n",
       "<td>\n",
       "370018\n",
       "</td>\n",
       "</tr>\n",
       "<tr>\n",
       "<td>\n",
       "&quot;worldnews&quot;\n",
       "</td>\n",
       "<td>\n",
       "351195\n",
       "</td>\n",
       "</tr>\n",
       "<tr>\n",
       "<td>\n",
       "&quot;askreddit&quot;\n",
       "</td>\n",
       "<td>\n",
       "259848\n",
       "</td>\n",
       "</tr>\n",
       "<tr>\n",
       "<td>\n",
       "&quot;collapse&quot;\n",
       "</td>\n",
       "<td>\n",
       "94696\n",
       "</td>\n",
       "</tr>\n",
       "<tr>\n",
       "<td>\n",
       "&quot;news&quot;\n",
       "</td>\n",
       "<td>\n",
       "94558\n",
       "</td>\n",
       "</tr>\n",
       "<tr>\n",
       "<td>\n",
       "&quot;futurology&quot;\n",
       "</td>\n",
       "<td>\n",
       "89945\n",
       "</td>\n",
       "</tr>\n",
       "<tr>\n",
       "<td>\n",
       "&quot;science&quot;\n",
       "</td>\n",
       "<td>\n",
       "71453\n",
       "</td>\n",
       "</tr>\n",
       "<tr>\n",
       "<td>\n",
       "&quot;environment&quot;\n",
       "</td>\n",
       "<td>\n",
       "70444\n",
       "</td>\n",
       "</tr>\n",
       "<tr>\n",
       "<td>\n",
       "&quot;canada&quot;\n",
       "</td>\n",
       "<td>\n",
       "66813\n",
       "</td>\n",
       "</tr>\n",
       "<tr>\n",
       "<td>\n",
       "&quot;australia&quot;\n",
       "</td>\n",
       "<td>\n",
       "60239\n",
       "</td>\n",
       "</tr>\n",
       "</tbody>\n",
       "</table>\n",
       "</div>"
      ],
      "text/plain": [
       "shape: (10, 2)\n",
       "┌────────────────┬──────────────┐\n",
       "│ subreddit_name ┆ num_comments │\n",
       "│ ---            ┆ ---          │\n",
       "│ str            ┆ i64          │\n",
       "╞════════════════╪══════════════╡\n",
       "│ politics       ┆ 370018       │\n",
       "├╌╌╌╌╌╌╌╌╌╌╌╌╌╌╌╌┼╌╌╌╌╌╌╌╌╌╌╌╌╌╌┤\n",
       "│ worldnews      ┆ 351195       │\n",
       "├╌╌╌╌╌╌╌╌╌╌╌╌╌╌╌╌┼╌╌╌╌╌╌╌╌╌╌╌╌╌╌┤\n",
       "│ askreddit      ┆ 259848       │\n",
       "├╌╌╌╌╌╌╌╌╌╌╌╌╌╌╌╌┼╌╌╌╌╌╌╌╌╌╌╌╌╌╌┤\n",
       "│ collapse       ┆ 94696        │\n",
       "├╌╌╌╌╌╌╌╌╌╌╌╌╌╌╌╌┼╌╌╌╌╌╌╌╌╌╌╌╌╌╌┤\n",
       "│ ...            ┆ ...          │\n",
       "├╌╌╌╌╌╌╌╌╌╌╌╌╌╌╌╌┼╌╌╌╌╌╌╌╌╌╌╌╌╌╌┤\n",
       "│ science        ┆ 71453        │\n",
       "├╌╌╌╌╌╌╌╌╌╌╌╌╌╌╌╌┼╌╌╌╌╌╌╌╌╌╌╌╌╌╌┤\n",
       "│ environment    ┆ 70444        │\n",
       "├╌╌╌╌╌╌╌╌╌╌╌╌╌╌╌╌┼╌╌╌╌╌╌╌╌╌╌╌╌╌╌┤\n",
       "│ canada         ┆ 66813        │\n",
       "├╌╌╌╌╌╌╌╌╌╌╌╌╌╌╌╌┼╌╌╌╌╌╌╌╌╌╌╌╌╌╌┤\n",
       "│ australia      ┆ 60239        │\n",
       "└────────────────┴──────────────┘"
      ]
     },
     "execution_count": 23,
     "metadata": {},
     "output_type": "execute_result"
    }
   ],
   "source": [
    "pl.DataFrame(data)  # Polars"
   ]
  },
  {
   "cell_type": "code",
   "execution_count": 24,
   "metadata": {
    "execution": {
     "iopub.execute_input": "2022-10-19T14:57:45.325178Z",
     "iopub.status.busy": "2022-10-19T14:57:45.324964Z",
     "iopub.status.idle": "2022-10-19T14:57:45.593437Z",
     "shell.execute_reply": "2022-10-19T14:57:45.592726Z",
     "shell.execute_reply.started": "2022-10-19T14:57:45.325152Z"
    },
    "tags": []
   },
   "outputs": [],
   "source": [
    "df_most_comments = rel.df()"
   ]
  },
  {
   "cell_type": "code",
   "execution_count": 25,
   "metadata": {
    "execution": {
     "iopub.execute_input": "2022-10-19T14:57:45.594779Z",
     "iopub.status.busy": "2022-10-19T14:57:45.594586Z",
     "iopub.status.idle": "2022-10-19T14:57:45.605133Z",
     "shell.execute_reply": "2022-10-19T14:57:45.604143Z",
     "shell.execute_reply.started": "2022-10-19T14:57:45.594754Z"
    },
    "tags": []
   },
   "outputs": [
    {
     "data": {
      "text/html": [
       "<div>\n",
       "<style scoped>\n",
       "    .dataframe tbody tr th:only-of-type {\n",
       "        vertical-align: middle;\n",
       "    }\n",
       "\n",
       "    .dataframe tbody tr th {\n",
       "        vertical-align: top;\n",
       "    }\n",
       "\n",
       "    .dataframe thead th {\n",
       "        text-align: right;\n",
       "    }\n",
       "</style>\n",
       "<table border=\"1\" class=\"dataframe\">\n",
       "  <thead>\n",
       "    <tr style=\"text-align: right;\">\n",
       "      <th></th>\n",
       "      <th>subreddit_name</th>\n",
       "      <th>num_comments</th>\n",
       "    </tr>\n",
       "  </thead>\n",
       "  <tbody>\n",
       "    <tr>\n",
       "      <th>0</th>\n",
       "      <td>politics</td>\n",
       "      <td>370018</td>\n",
       "    </tr>\n",
       "    <tr>\n",
       "      <th>1</th>\n",
       "      <td>worldnews</td>\n",
       "      <td>351195</td>\n",
       "    </tr>\n",
       "    <tr>\n",
       "      <th>2</th>\n",
       "      <td>askreddit</td>\n",
       "      <td>259848</td>\n",
       "    </tr>\n",
       "    <tr>\n",
       "      <th>3</th>\n",
       "      <td>collapse</td>\n",
       "      <td>94696</td>\n",
       "    </tr>\n",
       "    <tr>\n",
       "      <th>4</th>\n",
       "      <td>news</td>\n",
       "      <td>94558</td>\n",
       "    </tr>\n",
       "  </tbody>\n",
       "</table>\n",
       "</div>"
      ],
      "text/plain": [
       "  subreddit_name  num_comments\n",
       "0       politics        370018\n",
       "1      worldnews        351195\n",
       "2      askreddit        259848\n",
       "3       collapse         94696\n",
       "4           news         94558"
      ]
     },
     "execution_count": 25,
     "metadata": {},
     "output_type": "execute_result"
    }
   ],
   "source": [
    "df_most_comments.head()  # pandas"
   ]
  },
  {
   "cell_type": "code",
   "execution_count": 26,
   "metadata": {
    "execution": {
     "iopub.execute_input": "2022-10-19T14:57:45.606394Z",
     "iopub.status.busy": "2022-10-19T14:57:45.605958Z",
     "iopub.status.idle": "2022-10-19T14:57:45.619550Z",
     "shell.execute_reply": "2022-10-19T14:57:45.618812Z",
     "shell.execute_reply.started": "2022-10-19T14:57:45.606367Z"
    },
    "tags": []
   },
   "outputs": [
    {
     "data": {
      "text/plain": [
       "[('politics',), ('worldnews',), ('askreddit',), ('collapse',), ('news',)]"
      ]
     },
     "execution_count": 26,
     "metadata": {},
     "output_type": "execute_result"
    }
   ],
   "source": [
    "conn.execute(\"\"\"\n",
    "SELECT subreddit_name\n",
    "FROM df_most_comments  -- Sorcery!\n",
    "LIMIT 5\n",
    "\"\"\").fetchall()"
   ]
  },
  {
   "cell_type": "code",
   "execution_count": 27,
   "metadata": {
    "execution": {
     "iopub.execute_input": "2022-10-19T14:57:45.620782Z",
     "iopub.status.busy": "2022-10-19T14:57:45.620604Z",
     "iopub.status.idle": "2022-10-19T14:57:45.630210Z",
     "shell.execute_reply": "2022-10-19T14:57:45.629331Z",
     "shell.execute_reply.started": "2022-10-19T14:57:45.620758Z"
    },
    "tags": []
   },
   "outputs": [
    {
     "data": {
      "text/plain": [
       "<duckdb.DuckDBPyConnection at 0x7f86a0383bb0>"
      ]
     },
     "execution_count": 27,
     "metadata": {},
     "output_type": "execute_result"
    }
   ],
   "source": [
    "conn.register(\"most_comments_arrow\", data)"
   ]
  },
  {
   "cell_type": "code",
   "execution_count": 28,
   "metadata": {
    "execution": {
     "iopub.execute_input": "2022-10-19T14:57:45.631233Z",
     "iopub.status.busy": "2022-10-19T14:57:45.631052Z",
     "iopub.status.idle": "2022-10-19T14:57:45.759954Z",
     "shell.execute_reply": "2022-10-19T14:57:45.759294Z",
     "shell.execute_reply.started": "2022-10-19T14:57:45.631209Z"
    },
    "tags": []
   },
   "outputs": [
    {
     "data": {
      "text/plain": [
       "[('politics',), ('worldnews',), ('askreddit',), ('collapse',), ('news',)]"
      ]
     },
     "execution_count": 28,
     "metadata": {},
     "output_type": "execute_result"
    }
   ],
   "source": [
    "conn.execute(\"\"\"\n",
    "SELECT subreddit_name\n",
    "FROM most_comments_arrow\n",
    "LIMIT 5\n",
    "\"\"\").fetchall()"
   ]
  },
  {
   "cell_type": "code",
   "execution_count": 29,
   "metadata": {
    "execution": {
     "iopub.execute_input": "2022-10-19T14:57:45.762657Z",
     "iopub.status.busy": "2022-10-19T14:57:45.762458Z",
     "iopub.status.idle": "2022-10-19T14:57:45.773646Z",
     "shell.execute_reply": "2022-10-19T14:57:45.772969Z",
     "shell.execute_reply.started": "2022-10-19T14:57:45.762632Z"
    },
    "tags": []
   },
   "outputs": [
    {
     "name": "stdout",
     "output_type": "stream",
     "text": [
      " * duckdb:///:memory:\n",
      "Done.\n",
      "Returning data to local variable output\n"
     ]
    }
   ],
   "source": [
    "%sql output << SELECT subreddit_name FROM df_most_comments LIMIT 5"
   ]
  },
  {
   "cell_type": "code",
   "execution_count": 30,
   "metadata": {
    "execution": {
     "iopub.execute_input": "2022-10-19T14:57:45.777104Z",
     "iopub.status.busy": "2022-10-19T14:57:45.776712Z",
     "iopub.status.idle": "2022-10-19T14:57:45.790102Z",
     "shell.execute_reply": "2022-10-19T14:57:45.789318Z",
     "shell.execute_reply.started": "2022-10-19T14:57:45.777075Z"
    },
    "tags": []
   },
   "outputs": [
    {
     "data": {
      "text/html": [
       "<div>\n",
       "<style scoped>\n",
       "    .dataframe tbody tr th:only-of-type {\n",
       "        vertical-align: middle;\n",
       "    }\n",
       "\n",
       "    .dataframe tbody tr th {\n",
       "        vertical-align: top;\n",
       "    }\n",
       "\n",
       "    .dataframe thead th {\n",
       "        text-align: right;\n",
       "    }\n",
       "</style>\n",
       "<table border=\"1\" class=\"dataframe\">\n",
       "  <thead>\n",
       "    <tr style=\"text-align: right;\">\n",
       "      <th></th>\n",
       "      <th>subreddit_name</th>\n",
       "    </tr>\n",
       "  </thead>\n",
       "  <tbody>\n",
       "    <tr>\n",
       "      <th>0</th>\n",
       "      <td>politics</td>\n",
       "    </tr>\n",
       "    <tr>\n",
       "      <th>1</th>\n",
       "      <td>worldnews</td>\n",
       "    </tr>\n",
       "    <tr>\n",
       "      <th>2</th>\n",
       "      <td>askreddit</td>\n",
       "    </tr>\n",
       "    <tr>\n",
       "      <th>3</th>\n",
       "      <td>collapse</td>\n",
       "    </tr>\n",
       "    <tr>\n",
       "      <th>4</th>\n",
       "      <td>news</td>\n",
       "    </tr>\n",
       "  </tbody>\n",
       "</table>\n",
       "</div>"
      ],
      "text/plain": [
       "  subreddit_name\n",
       "0       politics\n",
       "1      worldnews\n",
       "2      askreddit\n",
       "3       collapse\n",
       "4           news"
      ]
     },
     "execution_count": 30,
     "metadata": {},
     "output_type": "execute_result"
    }
   ],
   "source": [
    "output.DataFrame()  # pandas"
   ]
  },
  {
   "cell_type": "markdown",
   "metadata": {},
   "source": [
    "---"
   ]
  },
  {
   "cell_type": "code",
   "execution_count": 31,
   "metadata": {
    "execution": {
     "iopub.execute_input": "2022-10-19T14:57:45.793923Z",
     "iopub.status.busy": "2022-10-19T14:57:45.793492Z",
     "iopub.status.idle": "2022-10-19T14:57:46.058082Z",
     "shell.execute_reply": "2022-10-19T14:57:46.057462Z",
     "shell.execute_reply.started": "2022-10-19T14:57:45.793869Z"
    },
    "tags": []
   },
   "outputs": [
    {
     "data": {
      "text/html": [
       "<div>\n",
       "<style scoped>\n",
       "    .dataframe tbody tr th:only-of-type {\n",
       "        vertical-align: middle;\n",
       "    }\n",
       "\n",
       "    .dataframe tbody tr th {\n",
       "        vertical-align: top;\n",
       "    }\n",
       "\n",
       "    .dataframe thead th {\n",
       "        text-align: right;\n",
       "    }\n",
       "</style>\n",
       "<table border=\"1\" class=\"dataframe\">\n",
       "  <thead>\n",
       "    <tr style=\"text-align: right;\">\n",
       "      <th></th>\n",
       "      <th>subreddit_name</th>\n",
       "      <th>num_comments</th>\n",
       "    </tr>\n",
       "  </thead>\n",
       "  <tbody>\n",
       "    <tr>\n",
       "      <th>0</th>\n",
       "      <td>askreddit</td>\n",
       "      <td>259848</td>\n",
       "    </tr>\n",
       "    <tr>\n",
       "      <th>1</th>\n",
       "      <td>politics</td>\n",
       "      <td>370018</td>\n",
       "    </tr>\n",
       "    <tr>\n",
       "      <th>2</th>\n",
       "      <td>worldnews</td>\n",
       "      <td>351195</td>\n",
       "    </tr>\n",
       "  </tbody>\n",
       "</table>\n",
       "</div>"
      ],
      "text/plain": [
       "  subreddit_name  num_comments\n",
       "0      askreddit        259848\n",
       "1       politics        370018\n",
       "2      worldnews        351195"
      ]
     },
     "execution_count": 31,
     "metadata": {},
     "output_type": "execute_result"
    }
   ],
   "source": [
    "rel.filter(\"num_comments > 100000\").order(\"subreddit_name\").df()"
   ]
  },
  {
   "cell_type": "code",
   "execution_count": 32,
   "metadata": {
    "execution": {
     "iopub.execute_input": "2022-10-19T14:57:46.062293Z",
     "iopub.status.busy": "2022-10-19T14:57:46.061711Z",
     "iopub.status.idle": "2022-10-19T14:57:47.598381Z",
     "shell.execute_reply": "2022-10-19T14:57:47.597448Z",
     "shell.execute_reply.started": "2022-10-19T14:57:46.062265Z"
    },
    "tags": []
   },
   "outputs": [
    {
     "name": "stdout",
     "output_type": "stream",
     "text": [
      "┌───────────────────┬──────────────┐\n",
      "│  subreddit_name   │ num_comments │\n",
      "├───────────────────┼──────────────┤\n",
      "│ news              │ 94558        │\n",
      "│ ohio              │ 891          │\n",
      "│ newzealand        │ 18213        │\n",
      "│ sacramento        │ 1161         │\n",
      "│ askreddit         │ 259848       │\n",
      "│ pastors           │ 3            │\n",
      "│ progressive_islam │ 83           │\n",
      "│ collapseprep      │ 83           │\n",
      "│ effectivealtruism │ 621          │\n",
      "│ worldnews         │ 351195       │\n",
      "└───────────────────┴──────────────┘\n"
     ]
    }
   ],
   "source": [
    "!./duckdb -c ' \\\n",
    "SELECT \\\n",
    "  \"subreddit.name\" AS subreddit_name, \\\n",
    "  COUNT(*) AS num_comments \\\n",
    "FROM \"/data/reddit-climate/the-reddit-climate-change-dataset-comments.parquet\" \\\n",
    "GROUP BY subreddit_name \\\n",
    "LIMIT 10 \\\n",
    "'"
   ]
  }
 ],
 "metadata": {
  "kernelspec": {
   "display_name": "Python 3",
   "language": "python",
   "name": "orchest-kernel-f5aeab89-be72-44fc-b6b2-96db16a0362e"
  },
  "language_info": {
   "codemirror_mode": {
    "name": "ipython",
    "version": 3
   },
   "file_extension": ".py",
   "mimetype": "text/x-python",
   "name": "python",
   "nbconvert_exporter": "python",
   "pygments_lexer": "ipython3",
   "version": "3.9.10"
  }
 },
 "nbformat": 4,
 "nbformat_minor": 4
}
