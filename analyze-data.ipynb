{
 "cells": [
  {
   "cell_type": "code",
   "execution_count": 1,
   "metadata": {
    "execution": {
     "iopub.execute_input": "2022-10-18T12:50:41.108090Z",
     "iopub.status.busy": "2022-10-18T12:50:41.107476Z",
     "iopub.status.idle": "2022-10-18T12:50:41.421856Z",
     "shell.execute_reply": "2022-10-18T12:50:41.421028Z",
     "shell.execute_reply.started": "2022-10-18T12:50:41.107999Z"
    },
    "tags": []
   },
   "outputs": [],
   "source": [
    "import duckdb"
   ]
  },
  {
   "cell_type": "code",
   "execution_count": 2,
   "metadata": {
    "execution": {
     "iopub.execute_input": "2022-10-18T12:50:42.130484Z",
     "iopub.status.busy": "2022-10-18T12:50:42.130167Z",
     "iopub.status.idle": "2022-10-18T12:50:42.144736Z",
     "shell.execute_reply": "2022-10-18T12:50:42.143879Z",
     "shell.execute_reply.started": "2022-10-18T12:50:42.130459Z"
    },
    "tags": []
   },
   "outputs": [],
   "source": [
    "conn = duckdb.connect()"
   ]
  },
  {
   "cell_type": "code",
   "execution_count": 3,
   "metadata": {
    "execution": {
     "iopub.execute_input": "2022-10-18T12:50:42.858461Z",
     "iopub.status.busy": "2022-10-18T12:50:42.857910Z",
     "iopub.status.idle": "2022-10-18T12:50:43.579562Z",
     "shell.execute_reply": "2022-10-18T12:50:43.578761Z",
     "shell.execute_reply.started": "2022-10-18T12:50:42.858434Z"
    },
    "tags": []
   },
   "outputs": [
    {
     "name": "stdout",
     "output_type": "stream",
     "text": [
      "3.9G\t/data/reddit-climate/the-reddit-climate-change-dataset-comments.csv\n",
      "250M\t/data/reddit-climate/the-reddit-climate-change-dataset-posts.csv\n"
     ]
    }
   ],
   "source": [
    "!du -sh /data/reddit-climate/*.csv"
   ]
  },
  {
   "cell_type": "code",
   "execution_count": 4,
   "metadata": {
    "execution": {
     "iopub.execute_input": "2022-10-18T12:50:45.010859Z",
     "iopub.status.busy": "2022-10-18T12:50:45.010494Z",
     "iopub.status.idle": "2022-10-18T12:50:45.735316Z",
     "shell.execute_reply": "2022-10-18T12:50:45.734400Z",
     "shell.execute_reply.started": "2022-10-18T12:50:45.010828Z"
    },
    "tags": []
   },
   "outputs": [
    {
     "name": "stdout",
     "output_type": "stream",
     "text": [
      "type,id,subreddit.id,subreddit.name,subreddit.nsfw,created_utc,permalink,body,sentiment,score\n",
      "comment,imlddn9,2qh3l,news,false,1661990368,https://old.reddit.com/r/news/comments/x2cszk/us_life_expectancy_down_for_secondstraight_year/imlddn9/,\"Yeah but what the above commenter is saying is their base doesn’t want any of that. They detest all of those things, even the small gradual changes. Investing in nuclear energy is a tacit acknowledgement of man made climate change. Any acknowledgement or concession and they will be primaried out in a minute\",0.5719,2\n",
      "comment,imldbeh,2qn7b,ohio,false,1661990340,https://old.reddit.com/r/Ohio/comments/x2awnp/state_government_may_soon_kill_a_solar_project_in/imldbeh/,\"Any comparison of efficiency between solar and fossil fuels is nonsensical at best and intentionally misleading at worst. In no universe is light -&gt; photovoltaic cell -&gt; electricity less efficient than light -&gt; entire food chain -&gt; biomass -&gt; decomposition -&gt; millions of years of geothermal heat and pressure -&gt; extraction -&gt; refining and transport -&gt; burning -&gt; turbine generator -&gt; electricity.\n",
      "\n",
      "Ugly? More ugly than power lines, roads, apartment buildings, tractors, fences, etc etc etc? You're simply not used to it. Also, who cares? Sure, millions of people died in the displacement from sea rise, famines cause by climate change, and wars from resource scarcity, but thank God we didn't have to look at those solar panels occasionally.\n",
      "\n",
      "Offshore fracking? Fucks sake. Have you already forgotten the deepwater horizon disaster? Think about the damage that did to the gulf coast, add a few million barrels of highly toxic fracking fluid to the mix, and there you have our next major environmental disaster courtesy of offshore fracking. But oh man, those solar panels sure are ugly.\n",
      "\n",
      "Stop repeating the lies fed to you by the people getting rich from fossil fuels, who couldn't care less about you or your descendants as long as they get theirs. We can deal with the less environmentally friendly aspects of solar power. We cannot deal with the consequences of continuing to pump carbon into the atmosphere. Y'all need to grow the fuck up and stop whining about the view.\",-0.9877,2\n",
      "comment,imldado,2qhma,newzealand,false,1661990327,https://old.reddit.com/r/newzealand/comments/x28xci/long_rant_pessimistic_asf_and_feel_like_were/imldado/,\"I'm honestly waiting for climate change and the impacts of that to kick some fucking sense into people. But who am I kidding itll still just be more of the poor suffering while the rich claim victim hood for handouts while letting us all starve. Its honestly hard some days to not just give up, and I truly wonder if and when anything will ever actually be done.\",-0.1143,1\n"
     ]
    }
   ],
   "source": [
    "!head /data/reddit-climate/the-reddit-climate-change-dataset-comments.csv"
   ]
  },
  {
   "cell_type": "code",
   "execution_count": 5,
   "metadata": {
    "execution": {
     "iopub.execute_input": "2022-10-18T12:50:47.080455Z",
     "iopub.status.busy": "2022-10-18T12:50:47.079840Z",
     "iopub.status.idle": "2022-10-18T12:51:38.536616Z",
     "shell.execute_reply": "2022-10-18T12:51:38.535978Z",
     "shell.execute_reply.started": "2022-10-18T12:50:47.080423Z"
    },
    "tags": []
   },
   "outputs": [
    {
     "data": {
      "text/plain": [
       "[(4600698,)]"
      ]
     },
     "execution_count": 5,
     "metadata": {},
     "output_type": "execute_result"
    }
   ],
   "source": [
    "conn.query(\"\"\"\n",
    "SELECT COUNT(*)\n",
    "FROM '/data/reddit-climate/the-reddit-climate-change-dataset-comments.csv'\n",
    "\"\"\").fetchall()"
   ]
  },
  {
   "cell_type": "code",
   "execution_count": 6,
   "metadata": {
    "execution": {
     "iopub.execute_input": "2022-10-18T12:51:38.539271Z",
     "iopub.status.busy": "2022-10-18T12:51:38.538804Z",
     "iopub.status.idle": "2022-10-18T12:51:38.710895Z",
     "shell.execute_reply": "2022-10-18T12:51:38.709981Z",
     "shell.execute_reply.started": "2022-10-18T12:51:38.539245Z"
    },
    "tags": []
   },
   "outputs": [
    {
     "name": "stdout",
     "output_type": "stream",
     "text": [
      "Reading /data/reddit-climate/the-reddit-climate-change-dataset-comments.csv...\n",
      "Reading /data/reddit-climate/the-reddit-climate-change-dataset-posts.csv...\n"
     ]
    }
   ],
   "source": [
    "import os\n",
    "\n",
    "import pyarrow as pa\n",
    "from pyarrow.csv import open_csv, ParseOptions\n",
    "import pyarrow.parquet as pq\n",
    "\n",
    "csv_files = !ls /data/reddit-climate/*.csv\n",
    "csv_files\n",
    "\n",
    "for filename in csv_files:\n",
    "    print(f\"Reading {filename}...\")\n",
    "    mmap = pa.memory_map(filename)\n",
    "\n",
    "    reader = open_csv(mmap, parse_options=ParseOptions(newlines_in_values=True))\n",
    "\n",
    "    destination_file = os.path.splitext(filename)[0] + \".parquet\"\n",
    "    if os.path.isfile(destination_file):\n",
    "        continue\n",
    "\n",
    "    with pq.ParquetWriter(destination_file, reader.schema) as writer:\n",
    "        while True:\n",
    "            try:\n",
    "                batch = reader.read_next_batch()\n",
    "                writer.write_batch(batch)\n",
    "            except StopIteration:\n",
    "                break"
   ]
  },
  {
   "cell_type": "code",
   "execution_count": 7,
   "metadata": {
    "execution": {
     "iopub.execute_input": "2022-10-18T12:51:38.714913Z",
     "iopub.status.busy": "2022-10-18T12:51:38.714571Z",
     "iopub.status.idle": "2022-10-18T12:51:39.430981Z",
     "shell.execute_reply": "2022-10-18T12:51:39.425169Z",
     "shell.execute_reply.started": "2022-10-18T12:51:38.714879Z"
    },
    "tags": []
   },
   "outputs": [
    {
     "name": "stdout",
     "output_type": "stream",
     "text": [
      "2.3G\t/data/reddit-climate/the-reddit-climate-change-dataset-comments.parquet\n",
      "97M\t/data/reddit-climate/the-reddit-climate-change-dataset-posts.parquet\n"
     ]
    }
   ],
   "source": [
    "!du -sh /data/reddit-climate/*.parquet"
   ]
  },
  {
   "cell_type": "code",
   "execution_count": 8,
   "metadata": {
    "execution": {
     "iopub.execute_input": "2022-10-18T12:51:39.437417Z",
     "iopub.status.busy": "2022-10-18T12:51:39.436988Z",
     "iopub.status.idle": "2022-10-18T12:51:39.648847Z",
     "shell.execute_reply": "2022-10-18T12:51:39.648136Z",
     "shell.execute_reply.started": "2022-10-18T12:51:39.437374Z"
    },
    "tags": []
   },
   "outputs": [
    {
     "data": {
      "text/plain": [
       "[(4600698,)]"
      ]
     },
     "execution_count": 8,
     "metadata": {},
     "output_type": "execute_result"
    }
   ],
   "source": [
    "conn.execute(\"\"\"\n",
    "SELECT COUNT(*)\n",
    "FROM '/data/reddit-climate/the-reddit-climate-change-dataset-comments.parquet'\n",
    "\"\"\").fetchall()"
   ]
  },
  {
   "cell_type": "markdown",
   "metadata": {},
   "source": [
    "---"
   ]
  },
  {
   "cell_type": "code",
   "execution_count": 9,
   "metadata": {
    "execution": {
     "iopub.execute_input": "2022-10-18T12:51:39.650560Z",
     "iopub.status.busy": "2022-10-18T12:51:39.650152Z",
     "iopub.status.idle": "2022-10-18T12:51:39.766221Z",
     "shell.execute_reply": "2022-10-18T12:51:39.762841Z",
     "shell.execute_reply.started": "2022-10-18T12:51:39.650535Z"
    },
    "tags": []
   },
   "outputs": [
    {
     "data": {
      "text/plain": [
       "[]"
      ]
     },
     "execution_count": 9,
     "metadata": {},
     "output_type": "execute_result"
    }
   ],
   "source": [
    "conn.execute(\"\"\"\n",
    "CREATE VIEW comments AS\n",
    "SELECT * FROM '/data/reddit-climate/the-reddit-climate-change-dataset-comments.parquet'\n",
    "\"\"\").fetchall()"
   ]
  },
  {
   "cell_type": "code",
   "execution_count": 10,
   "metadata": {
    "execution": {
     "iopub.execute_input": "2022-10-18T12:51:39.767503Z",
     "iopub.status.busy": "2022-10-18T12:51:39.767309Z",
     "iopub.status.idle": "2022-10-18T12:51:40.349952Z",
     "shell.execute_reply": "2022-10-18T12:51:40.349303Z",
     "shell.execute_reply.started": "2022-10-18T12:51:39.767480Z"
    },
    "tags": []
   },
   "outputs": [
    {
     "data": {
      "text/plain": [
       "[('politics', 370018),\n",
       " ('worldnews', 351195),\n",
       " ('askreddit', 259848),\n",
       " ('collapse', 94696),\n",
       " ('news', 94558),\n",
       " ('futurology', 89945),\n",
       " ('science', 71453),\n",
       " ('environment', 70444),\n",
       " ('canada', 66813),\n",
       " ('australia', 60239)]"
      ]
     },
     "execution_count": 10,
     "metadata": {},
     "output_type": "execute_result"
    }
   ],
   "source": [
    "conn.execute(\"\"\"\n",
    "SELECT\n",
    "  \"subreddit.name\" AS subreddit_name,\n",
    "  COUNT(*) AS num_comments,\n",
    "FROM comments\n",
    "GROUP BY subreddit_name\n",
    "ORDER BY num_comments DESC\n",
    "LIMIT 10\n",
    "\"\"\").fetchall()"
   ]
  },
  {
   "cell_type": "code",
   "execution_count": 11,
   "metadata": {
    "execution": {
     "iopub.execute_input": "2022-10-18T12:51:40.351144Z",
     "iopub.status.busy": "2022-10-18T12:51:40.350966Z",
     "iopub.status.idle": "2022-10-18T12:51:42.929524Z",
     "shell.execute_reply": "2022-10-18T12:51:42.928620Z",
     "shell.execute_reply.started": "2022-10-18T12:51:40.351120Z"
    },
    "tags": []
   },
   "outputs": [
    {
     "data": {
      "text/plain": [
       "[('politics', 370018, -0.018118589649651688, 0.6600297061408),\n",
       " ('worldnews', 351195, -0.05800158738790874, 0.6405990095462698),\n",
       " ('askreddit', 259848, -0.06863721863923522, 0.6089748718101494),\n",
       " ('collapse', 94696, -0.13326616263904179, 0.6667106776062686),\n",
       " ('news', 94558, -0.09367126059175668, 0.6276134461239254),\n",
       " ('futurology', 89945, 0.00186374891156306, 0.6506820198836242),\n",
       " ('science', 71453, 0.04588216852922977, 0.6248484283076321),\n",
       " ('environment', 70444, -0.015670189810189975, 0.6467846578160411),\n",
       " ('canada', 66813, 0.021118244331091468, 0.6408319443539481),\n",
       " ('australia', 60239, -0.021869519296548054, 0.6405803819103516)]"
      ]
     },
     "execution_count": 11,
     "metadata": {},
     "output_type": "execute_result"
    }
   ],
   "source": [
    "conn.execute(\"\"\"\n",
    "SELECT\n",
    "  \"subreddit.name\" AS subreddit_name,\n",
    "  COUNT(*) AS num_comments,\n",
    "  AVG(sentiment) AS average_sentiment,\n",
    "  STDDEV(sentiment) AS stddev_sentiment,\n",
    "FROM comments\n",
    "WHERE subreddit_name IN (\n",
    "  SELECT \"subreddit.name\" AS subreddit_name\n",
    "  FROM comments\n",
    "  GROUP BY subreddit_name\n",
    "  ORDER BY COUNT(*) DESC\n",
    "  LIMIT 10\n",
    ")\n",
    "GROUP BY subreddit_name\n",
    "ORDER BY num_comments DESC\n",
    "\"\"\").fetchall()"
   ]
  }
 ],
 "metadata": {
  "kernelspec": {
   "display_name": "Python 3",
   "language": "python",
   "name": "orchest-kernel-f5aeab89-be72-44fc-b6b2-96db16a0362e"
  },
  "language_info": {
   "codemirror_mode": {
    "name": "ipython",
    "version": 3
   },
   "file_extension": ".py",
   "mimetype": "text/x-python",
   "name": "python",
   "nbconvert_exporter": "python",
   "pygments_lexer": "ipython3",
   "version": "3.9.10"
  }
 },
 "nbformat": 4,
 "nbformat_minor": 4
}
